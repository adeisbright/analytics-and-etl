{
 "cells": [
  {
   "cell_type": "code",
   "execution_count": 322,
   "id": "cb1a276e",
   "metadata": {},
   "outputs": [],
   "source": [
    "import pandas as pd\n",
    "import numpy as np\n",
    "import seaborn as sns\n",
    "import matplotlib.pyplot as plt\n",
    "from scipy.stats import spearmanr"
   ]
  },
  {
   "cell_type": "code",
   "execution_count": 417,
   "id": "b3e30bb6",
   "metadata": {},
   "outputs": [],
   "source": [
    "contestants_url = \"https://raw.githubusercontent.com/tturocy/eco7026a/main/2022-23/contestants.csv\"\n",
    "votes_url = \"https://raw.githubusercontent.com/tturocy/eco7026a/main/2022-23/votes.csv\""
   ]
  },
  {
   "cell_type": "markdown",
   "id": "26609b5c",
   "metadata": {},
   "source": [
    "# Read the Data"
   ]
  },
  {
   "cell_type": "code",
   "execution_count": 418,
   "id": "4a22f4ad",
   "metadata": {},
   "outputs": [],
   "source": [
    "contestants = pd.read_csv(contestants_url)\n",
    "votes = pd.read_csv(votes_url)"
   ]
  },
  {
   "cell_type": "markdown",
   "id": "144680c5",
   "metadata": {},
   "source": [
    "# Explore Contestants Data "
   ]
  },
  {
   "cell_type": "code",
   "execution_count": 419,
   "id": "8f131aa1",
   "metadata": {},
   "outputs": [
    {
     "name": "stdout",
     "output_type": "stream",
     "text": [
      "<class 'pandas.core.frame.DataFrame'>\n",
      "RangeIndex: 1734 entries, 0 to 1733\n",
      "Data columns (total 21 columns):\n",
      " #   Column             Non-Null Count  Dtype  \n",
      "---  ------             --------------  -----  \n",
      " 0   year               1734 non-null   int64  \n",
      " 1   to_country_id      1734 non-null   object \n",
      " 2   to_country         1734 non-null   object \n",
      " 3   performer          1734 non-null   object \n",
      " 4   song               1731 non-null   object \n",
      " 5   place_contest      1678 non-null   float64\n",
      " 6   sf_num             640 non-null    float64\n",
      " 7   running_final      1398 non-null   float64\n",
      " 8   running_sf         605 non-null    float64\n",
      " 9   place_final        1397 non-null   float64\n",
      " 10  points_final       1385 non-null   float64\n",
      " 11  place_sf           605 non-null    float64\n",
      " 12  points_sf          605 non-null    float64\n",
      " 13  points_tele_final  181 non-null    float64\n",
      " 14  points_jury_final  181 non-null    float64\n",
      " 15  points_tele_sf     212 non-null    float64\n",
      " 16  points_jury_sf     212 non-null    float64\n",
      " 17  composers          1680 non-null   object \n",
      " 18  lyricists          985 non-null    object \n",
      " 19  lyrics             1722 non-null   object \n",
      " 20  youtube_url        1722 non-null   object \n",
      "dtypes: float64(12), int64(1), object(8)\n",
      "memory usage: 284.6+ KB\n"
     ]
    }
   ],
   "source": [
    "contestants.info()"
   ]
  },
  {
   "cell_type": "code",
   "execution_count": 421,
   "id": "0e2cf0c6",
   "metadata": {},
   "outputs": [
    {
     "data": {
      "text/html": [
       "<div>\n",
       "<style scoped>\n",
       "    .dataframe tbody tr th:only-of-type {\n",
       "        vertical-align: middle;\n",
       "    }\n",
       "\n",
       "    .dataframe tbody tr th {\n",
       "        vertical-align: top;\n",
       "    }\n",
       "\n",
       "    .dataframe thead th {\n",
       "        text-align: right;\n",
       "    }\n",
       "</style>\n",
       "<table border=\"1\" class=\"dataframe\">\n",
       "  <thead>\n",
       "    <tr style=\"text-align: right;\">\n",
       "      <th></th>\n",
       "      <th>year</th>\n",
       "      <th>to_country_id</th>\n",
       "      <th>to_country</th>\n",
       "      <th>performer</th>\n",
       "      <th>song</th>\n",
       "      <th>place_contest</th>\n",
       "      <th>sf_num</th>\n",
       "      <th>running_final</th>\n",
       "      <th>running_sf</th>\n",
       "      <th>place_final</th>\n",
       "      <th>...</th>\n",
       "      <th>place_sf</th>\n",
       "      <th>points_sf</th>\n",
       "      <th>points_tele_final</th>\n",
       "      <th>points_jury_final</th>\n",
       "      <th>points_tele_sf</th>\n",
       "      <th>points_jury_sf</th>\n",
       "      <th>composers</th>\n",
       "      <th>lyricists</th>\n",
       "      <th>lyrics</th>\n",
       "      <th>youtube_url</th>\n",
       "    </tr>\n",
       "  </thead>\n",
       "  <tbody>\n",
       "    <tr>\n",
       "      <th>0</th>\n",
       "      <td>1956</td>\n",
       "      <td>ch</td>\n",
       "      <td>Switzerland</td>\n",
       "      <td>Lys Assia</td>\n",
       "      <td>Refrain</td>\n",
       "      <td>2.0</td>\n",
       "      <td>NaN</td>\n",
       "      <td>2.0</td>\n",
       "      <td>NaN</td>\n",
       "      <td>2.0</td>\n",
       "      <td>...</td>\n",
       "      <td>NaN</td>\n",
       "      <td>NaN</td>\n",
       "      <td>NaN</td>\n",
       "      <td>NaN</td>\n",
       "      <td>NaN</td>\n",
       "      <td>NaN</td>\n",
       "      <td>Georg Benz Stahl</td>\n",
       "      <td>NaN</td>\n",
       "      <td>(Refrain d'amour...)\\n\\nRefrain, couleur du ci...</td>\n",
       "      <td>https://youtube.com/watch?v=IyqIPvOkiRk</td>\n",
       "    </tr>\n",
       "    <tr>\n",
       "      <th>1</th>\n",
       "      <td>1956</td>\n",
       "      <td>nl</td>\n",
       "      <td>Netherlands</td>\n",
       "      <td>Jetty Paerl</td>\n",
       "      <td>De Vogels Van Holland</td>\n",
       "      <td>2.0</td>\n",
       "      <td>NaN</td>\n",
       "      <td>1.0</td>\n",
       "      <td>NaN</td>\n",
       "      <td>2.0</td>\n",
       "      <td>...</td>\n",
       "      <td>NaN</td>\n",
       "      <td>NaN</td>\n",
       "      <td>NaN</td>\n",
       "      <td>NaN</td>\n",
       "      <td>NaN</td>\n",
       "      <td>NaN</td>\n",
       "      <td>Cor Lemaire</td>\n",
       "      <td>Annie M. G. Schmidt</td>\n",
       "      <td>De vogels van Holland zijn zo muzikaal\\nZe ler...</td>\n",
       "      <td>https://youtube.com/watch?v=u45UQVGRVPA</td>\n",
       "    </tr>\n",
       "    <tr>\n",
       "      <th>2</th>\n",
       "      <td>1956</td>\n",
       "      <td>be</td>\n",
       "      <td>Belgium</td>\n",
       "      <td>Fud Leclerc</td>\n",
       "      <td>Messieurs Les Noyés De La Seine</td>\n",
       "      <td>2.0</td>\n",
       "      <td>NaN</td>\n",
       "      <td>3.0</td>\n",
       "      <td>NaN</td>\n",
       "      <td>2.0</td>\n",
       "      <td>...</td>\n",
       "      <td>NaN</td>\n",
       "      <td>NaN</td>\n",
       "      <td>NaN</td>\n",
       "      <td>NaN</td>\n",
       "      <td>NaN</td>\n",
       "      <td>NaN</td>\n",
       "      <td>Jacques Say;Jean Miret</td>\n",
       "      <td>Robert Montal</td>\n",
       "      <td>Messieurs les noyés de la Seine\\nOuvrez-moi le...</td>\n",
       "      <td>https://youtube.com/watch?v=U9O3sqlyra0</td>\n",
       "    </tr>\n",
       "    <tr>\n",
       "      <th>3</th>\n",
       "      <td>1956</td>\n",
       "      <td>de</td>\n",
       "      <td>Germany</td>\n",
       "      <td>Walter Andreas Schwarz</td>\n",
       "      <td>Im Wartesaal Zum Großen Glück</td>\n",
       "      <td>2.0</td>\n",
       "      <td>NaN</td>\n",
       "      <td>4.0</td>\n",
       "      <td>NaN</td>\n",
       "      <td>2.0</td>\n",
       "      <td>...</td>\n",
       "      <td>NaN</td>\n",
       "      <td>NaN</td>\n",
       "      <td>NaN</td>\n",
       "      <td>NaN</td>\n",
       "      <td>NaN</td>\n",
       "      <td>NaN</td>\n",
       "      <td>Walter Andreas Schwarz</td>\n",
       "      <td>NaN</td>\n",
       "      <td>Es gibt einen Hafen, da fährt kaum ein Schiff\\...</td>\n",
       "      <td>https://youtube.com/watch?v=BDNARIDnmTc</td>\n",
       "    </tr>\n",
       "    <tr>\n",
       "      <th>4</th>\n",
       "      <td>1956</td>\n",
       "      <td>fr</td>\n",
       "      <td>France</td>\n",
       "      <td>Mathé Altéry</td>\n",
       "      <td>Le Temps Perdu</td>\n",
       "      <td>2.0</td>\n",
       "      <td>NaN</td>\n",
       "      <td>5.0</td>\n",
       "      <td>NaN</td>\n",
       "      <td>2.0</td>\n",
       "      <td>...</td>\n",
       "      <td>NaN</td>\n",
       "      <td>NaN</td>\n",
       "      <td>NaN</td>\n",
       "      <td>NaN</td>\n",
       "      <td>NaN</td>\n",
       "      <td>NaN</td>\n",
       "      <td>André Lodge</td>\n",
       "      <td>Rachèle Thoreau</td>\n",
       "      <td>Chante, carillon\\nLe chant du temps perdu\\nCha...</td>\n",
       "      <td>https://youtube.com/watch?v=dm1L0XyikKI</td>\n",
       "    </tr>\n",
       "  </tbody>\n",
       "</table>\n",
       "<p>5 rows × 21 columns</p>\n",
       "</div>"
      ],
      "text/plain": [
       "   year to_country_id   to_country               performer  \\\n",
       "0  1956            ch  Switzerland               Lys Assia   \n",
       "1  1956            nl  Netherlands             Jetty Paerl   \n",
       "2  1956            be      Belgium             Fud Leclerc   \n",
       "3  1956            de      Germany  Walter Andreas Schwarz   \n",
       "4  1956            fr       France            Mathé Altéry   \n",
       "\n",
       "                              song  place_contest  sf_num  running_final  \\\n",
       "0                          Refrain            2.0     NaN            2.0   \n",
       "1            De Vogels Van Holland            2.0     NaN            1.0   \n",
       "2  Messieurs Les Noyés De La Seine            2.0     NaN            3.0   \n",
       "3    Im Wartesaal Zum Großen Glück            2.0     NaN            4.0   \n",
       "4                   Le Temps Perdu            2.0     NaN            5.0   \n",
       "\n",
       "   running_sf  place_final  ...  place_sf  points_sf  points_tele_final  \\\n",
       "0         NaN          2.0  ...       NaN        NaN                NaN   \n",
       "1         NaN          2.0  ...       NaN        NaN                NaN   \n",
       "2         NaN          2.0  ...       NaN        NaN                NaN   \n",
       "3         NaN          2.0  ...       NaN        NaN                NaN   \n",
       "4         NaN          2.0  ...       NaN        NaN                NaN   \n",
       "\n",
       "   points_jury_final  points_tele_sf  points_jury_sf               composers  \\\n",
       "0                NaN             NaN             NaN        Georg Benz Stahl   \n",
       "1                NaN             NaN             NaN             Cor Lemaire   \n",
       "2                NaN             NaN             NaN  Jacques Say;Jean Miret   \n",
       "3                NaN             NaN             NaN  Walter Andreas Schwarz   \n",
       "4                NaN             NaN             NaN             André Lodge   \n",
       "\n",
       "             lyricists                                             lyrics  \\\n",
       "0                  NaN  (Refrain d'amour...)\\n\\nRefrain, couleur du ci...   \n",
       "1  Annie M. G. Schmidt  De vogels van Holland zijn zo muzikaal\\nZe ler...   \n",
       "2        Robert Montal  Messieurs les noyés de la Seine\\nOuvrez-moi le...   \n",
       "3                  NaN  Es gibt einen Hafen, da fährt kaum ein Schiff\\...   \n",
       "4      Rachèle Thoreau  Chante, carillon\\nLe chant du temps perdu\\nCha...   \n",
       "\n",
       "                               youtube_url  \n",
       "0  https://youtube.com/watch?v=IyqIPvOkiRk  \n",
       "1  https://youtube.com/watch?v=u45UQVGRVPA  \n",
       "2  https://youtube.com/watch?v=U9O3sqlyra0  \n",
       "3  https://youtube.com/watch?v=BDNARIDnmTc  \n",
       "4  https://youtube.com/watch?v=dm1L0XyikKI  \n",
       "\n",
       "[5 rows x 21 columns]"
      ]
     },
     "execution_count": 421,
     "metadata": {},
     "output_type": "execute_result"
    }
   ],
   "source": [
    "contestants.head(5)"
   ]
  },
  {
   "cell_type": "markdown",
   "id": "4d50c772",
   "metadata": {},
   "source": [
    "# Explore Votes Data "
   ]
  },
  {
   "cell_type": "code",
   "execution_count": 328,
   "id": "d0294dd3",
   "metadata": {},
   "outputs": [
    {
     "name": "stdout",
     "output_type": "stream",
     "text": [
      "<class 'pandas.core.frame.DataFrame'>\n",
      "RangeIndex: 51354 entries, 0 to 51353\n",
      "Data columns (total 9 columns):\n",
      " #   Column           Non-Null Count  Dtype  \n",
      "---  ------           --------------  -----  \n",
      " 0   year             51354 non-null  int64  \n",
      " 1   round            51354 non-null  object \n",
      " 2   from_country_id  51354 non-null  object \n",
      " 3   to_country_id    51354 non-null  object \n",
      " 4   from_country     51354 non-null  object \n",
      " 5   to_country       51354 non-null  object \n",
      " 6   total_points     51354 non-null  int64  \n",
      " 7   tele_points      11741 non-null  float64\n",
      " 8   jury_points      11715 non-null  float64\n",
      "dtypes: float64(2), int64(2), object(5)\n",
      "memory usage: 3.5+ MB\n"
     ]
    }
   ],
   "source": [
    "votes.info()"
   ]
  },
  {
   "cell_type": "code",
   "execution_count": 329,
   "id": "b5d06d1f",
   "metadata": {},
   "outputs": [
    {
     "data": {
      "text/plain": [
       "462186"
      ]
     },
     "execution_count": 329,
     "metadata": {},
     "output_type": "execute_result"
    }
   ],
   "source": [
    "votes.size"
   ]
  },
  {
   "cell_type": "markdown",
   "id": "f717585b",
   "metadata": {},
   "source": [
    "# Filter Contestants and Votes to use Data For the Years with Current Point System "
   ]
  },
  {
   "cell_type": "code",
   "execution_count": 338,
   "id": "86d7742c",
   "metadata": {},
   "outputs": [],
   "source": [
    "current_point_system_years = votes[votes['total_points'].isin([12, 10, 8, 7, 6, 5, 4, 3, 2, 1])]['year'].unique()\n",
    "\n",
    "# Filter contestants and votes datasets based on the detected years and grand final\n",
    "grand_final = votes['round'] == 'final'\n",
    "contestants = contestants[(contestants['year'].isin(current_point_system_years))]\n",
    "votes = votes[(votes['year'].isin(current_point_system_years)) & grand_final_mask]"
   ]
  },
  {
   "cell_type": "markdown",
   "id": "47c07985",
   "metadata": {},
   "source": [
    "# Explore Filtered Votes  for Current Point System"
   ]
  },
  {
   "cell_type": "code",
   "execution_count": 340,
   "id": "6ed60412",
   "metadata": {},
   "outputs": [
    {
     "name": "stdout",
     "output_type": "stream",
     "text": [
      "<class 'pandas.core.frame.DataFrame'>\n",
      "Index: 7370 entries, 39613 to 51353\n",
      "Data columns (total 9 columns):\n",
      " #   Column           Non-Null Count  Dtype  \n",
      "---  ------           --------------  -----  \n",
      " 0   year             7370 non-null   int64  \n",
      " 1   round            7370 non-null   object \n",
      " 2   from_country_id  7370 non-null   object \n",
      " 3   to_country_id    7370 non-null   object \n",
      " 4   from_country     7370 non-null   object \n",
      " 5   to_country       7370 non-null   object \n",
      " 6   total_points     7370 non-null   int64  \n",
      " 7   tele_points      7370 non-null   float64\n",
      " 8   jury_points      7344 non-null   float64\n",
      "dtypes: float64(2), int64(2), object(5)\n",
      "memory usage: 575.8+ KB\n"
     ]
    }
   ],
   "source": [
    "votes.info()"
   ]
  },
  {
   "cell_type": "code",
   "execution_count": 339,
   "id": "5fdf673e",
   "metadata": {},
   "outputs": [
    {
     "name": "stdout",
     "output_type": "stream",
     "text": [
      "<class 'pandas.core.frame.DataFrame'>\n",
      "Index: 299 entries, 1394 to 1733\n",
      "Data columns (total 21 columns):\n",
      " #   Column             Non-Null Count  Dtype  \n",
      "---  ------             --------------  -----  \n",
      " 0   year               299 non-null    int64  \n",
      " 1   to_country_id      299 non-null    object \n",
      " 2   to_country         299 non-null    object \n",
      " 3   performer          299 non-null    object \n",
      " 4   song               299 non-null    object \n",
      " 5   place_contest      284 non-null    float64\n",
      " 6   sf_num             227 non-null    float64\n",
      " 7   running_final      181 non-null    float64\n",
      " 8   running_sf         227 non-null    float64\n",
      " 9   place_final        181 non-null    float64\n",
      " 10  points_final       181 non-null    float64\n",
      " 11  place_sf           227 non-null    float64\n",
      " 12  points_sf          227 non-null    float64\n",
      " 13  points_tele_final  181 non-null    float64\n",
      " 14  points_jury_final  181 non-null    float64\n",
      " 15  points_tele_sf     212 non-null    float64\n",
      " 16  points_jury_sf     212 non-null    float64\n",
      " 17  composers          287 non-null    object \n",
      " 18  lyricists          126 non-null    object \n",
      " 19  lyrics             287 non-null    object \n",
      " 20  youtube_url        287 non-null    object \n",
      "dtypes: float64(12), int64(1), object(8)\n",
      "memory usage: 51.4+ KB\n"
     ]
    }
   ],
   "source": [
    "contestants.info()"
   ]
  },
  {
   "cell_type": "markdown",
   "id": "f8448be3",
   "metadata": {},
   "source": [
    "# Question 1 - Internal Data Consistency Check "
   ]
  },
  {
   "cell_type": "markdown",
   "id": "d542c7d1",
   "metadata": {},
   "source": [
    "# Question 1a : Data Consistency Check for Contestants Votes"
   ]
  },
  {
   "cell_type": "code",
   "execution_count": 341,
   "id": "9f9ed755",
   "metadata": {},
   "outputs": [
    {
     "name": "stdout",
     "output_type": "stream",
     "text": [
      "\n",
      "Internal Consistency Verification:\n",
      "Points Consistency: True\n"
     ]
    }
   ],
   "source": [
    "def contestants_votes_consistency_check(contestants , votes):\n",
    "    contestants_points_final = contestants[['year', 'to_country_id', 'points_final']].dropna(subset=['points_final'])\n",
    "    contestants_points_final.rename(columns={'points_final': 'total_points' , 'to_country_id' : 'to_country'}, inplace=True)\n",
    "    \n",
    "    contestant_points = contestants_points_final['total_points']\n",
    "    votes_total_points = votes.groupby(['year', 'to_country'])['total_points'].sum().reset_index()['total_points']\n",
    "\n",
    "    # Sort the arrays\n",
    "    contestant_points_sorted = np.sort(contestant_points.to_numpy())\n",
    "    votes_total_points_sorted = np.sort(votes_total_points.to_numpy())\n",
    "\n",
    "    # Compare the sorted arrays\n",
    "    points_check = np.array_equal(contestant_points_sorted, votes_total_points_sorted)\n",
    "\n",
    "\n",
    "    # Print the result of the comparison\n",
    "    print(\"\\nInternal Consistency Verification:\")\n",
    "    print(\"Points Consistency:\", points_check)\n",
    "contestants_votes_consistency_check(contestants,votes)"
   ]
  },
  {
   "cell_type": "markdown",
   "id": "f83bc59d",
   "metadata": {},
   "source": [
    "# Question 1b : Rank Consistency Check "
   ]
  },
  {
   "cell_type": "code",
   "execution_count": 401,
   "id": "22e24a61",
   "metadata": {},
   "outputs": [
    {
     "name": "stdout",
     "output_type": "stream",
     "text": [
      "No discrepancies found.\n"
     ]
    }
   ],
   "source": [
    "def check_rank_consistency(contestants):\n",
    "    inconsistent_entries = []\n",
    "    #Clean the contestants dataframe by dropping rows whose points_final is NaN\n",
    "    contestants_df = contestants[['to_country' , 'year', 'points_final', 'place_final']].dropna(subset=['points_final'])\n",
    "    for index, contestant in contestants_df.iterrows():\n",
    "\n",
    "        # Verify ranking of contestants\n",
    "        expected_rank = contestants_df[contestants_df['year'] == contestant['year']].sort_values(by='points_final', ascending=False).reset_index(drop=True)\n",
    "        if contestant['place_final'] != expected_rank[expected_rank['to_country'] == contestant['to_country']].index[0] + 1:\n",
    "            inconsistent_entries.append(f\"Year: {contestant['year']}, Country: {contestant['to_country']}, Rank Mismatch\")\n",
    "\n",
    "    # Report discrepancies\n",
    "    if inconsistent_entries:\n",
    "        print(\"Discrepancies found:\")\n",
    "        for entry in inconsistent_entries:\n",
    "            print(entry)\n",
    "    else:\n",
    "        print(\"No discrepancies found.\")\n",
    "check_rank_consistency(contestants)"
   ]
  },
  {
   "cell_type": "markdown",
   "id": "fe09b638",
   "metadata": {},
   "source": [
    "# 2. Most and least successful countries"
   ]
  },
  {
   "cell_type": "code",
   "execution_count": 430,
   "id": "b9f95e00",
   "metadata": {},
   "outputs": [
    {
     "name": "stdout",
     "output_type": "stream",
     "text": [
      "The most successful countries based on mean are:\n",
      "\n",
      " to_country\n",
      "Bulgaria               283.000000\n",
      "Australia              219.857143\n",
      "Ukraine                201.277778\n",
      "Serbia & Montenegro    200.000000\n",
      "Russia                 160.454545\n",
      "Name: points_final, dtype: float64\n",
      "\n",
      "The least successful countries based on mean are:\n",
      "\n",
      " to_country\n",
      "Morocco        7.000000\n",
      "Slovakia      14.000000\n",
      "Monaco        35.142857\n",
      "Yugoslavia    37.518519\n",
      "Luxembourg    39.527778\n",
      "Name: points_final, dtype: float64\n"
     ]
    },
    {
     "data": {
      "image/png": "[encoded data removed]",
      "text/plain": [
       "<Figure size 1200x600 with 1 Axes>"
      ]
     },
     "metadata": {},
     "output_type": "display_data"
    }
   ],
   "source": [
    "def most_least_successful(contestants, votes):\n",
    "    # Define success measure (e.g., average points or median)\n",
    "    success_measure = 'points_final'\n",
    "    \n",
    "    # Calculate mean and median success measures for each country\n",
    "    country_mean_success = contestants.groupby('to_country')[success_measure].mean()\n",
    "\n",
    "    # Identify most and least successful countries based on mean\n",
    "    most_successful_countries_mean = country_mean_success.nlargest(5)\n",
    "    least_successful_countries_mean = country_mean_success.nsmallest(5)\n",
    "\n",
    "   \n",
    "\n",
    "    print(\"The most successful countries based on mean are:\")\n",
    "    print(\"\\n\", most_successful_countries_mean)\n",
    "    \n",
    "    print(\"\\nThe least successful countries based on mean are:\")\n",
    "    print(\"\\n\", least_successful_countries_mean)\n",
    "    # Plot bar chart\n",
    "    plt.figure(figsize=(12, 6))\n",
    "\n",
    "    # Plot most successful countries\n",
    "    plt.bar(most_successful_countries_mean.index, most_successful_countries_mean, color='green', label='Most Successful')\n",
    "\n",
    "    # Plot least successful countries\n",
    "    plt.bar(least_successful_countries_mean.index, least_successful_countries_mean, color='red', label='Least Successful')\n",
    "\n",
    "    plt.ylabel(success_measure.capitalize())\n",
    "    plt.title('Most and Least Successful Countries Based on Mean')\n",
    "    plt.legend()\n",
    "    plt.xticks(rotation=45, ha=\"right\")  # Rotate x-axis labels for better visibility\n",
    "    plt.show()\n",
    "\n",
    "\n",
    "# Example usage:\n",
    "most_least_successful(contestants, votes)"
   ]
  },
  {
   "cell_type": "markdown",
   "id": "fd227f73",
   "metadata": {},
   "source": [
    "# 3. Ordering Effects Analysis "
   ]
  },
  {
   "cell_type": "code",
   "execution_count": 424,
   "id": "43279d28",
   "metadata": {},
   "outputs": [
    {
     "name": "stdout",
     "output_type": "stream",
     "text": [
      "<class 'pandas.core.frame.DataFrame'>\n",
      "RangeIndex: 1734 entries, 0 to 1733\n",
      "Data columns (total 21 columns):\n",
      " #   Column             Non-Null Count  Dtype  \n",
      "---  ------             --------------  -----  \n",
      " 0   year               1734 non-null   int64  \n",
      " 1   to_country_id      1734 non-null   object \n",
      " 2   to_country         1734 non-null   object \n",
      " 3   performer          1734 non-null   object \n",
      " 4   song               1731 non-null   object \n",
      " 5   place_contest      1678 non-null   float64\n",
      " 6   sf_num             640 non-null    float64\n",
      " 7   running_final      1398 non-null   float64\n",
      " 8   running_sf         605 non-null    float64\n",
      " 9   place_final        1397 non-null   float64\n",
      " 10  points_final       1385 non-null   float64\n",
      " 11  place_sf           605 non-null    float64\n",
      " 12  points_sf          605 non-null    float64\n",
      " 13  points_tele_final  181 non-null    float64\n",
      " 14  points_jury_final  181 non-null    float64\n",
      " 15  points_tele_sf     212 non-null    float64\n",
      " 16  points_jury_sf     212 non-null    float64\n",
      " 17  composers          1680 non-null   object \n",
      " 18  lyricists          985 non-null    object \n",
      " 19  lyrics             1722 non-null   object \n",
      " 20  youtube_url        1722 non-null   object \n",
      "dtypes: float64(12), int64(1), object(8)\n",
      "memory usage: 284.6+ KB\n",
      "\n",
      "Ordering Effects Analysis:\n",
      "running_final\n",
      "1.0     11.000000\n",
      "2.0     13.701493\n",
      "3.0     12.149254\n",
      "4.0     12.343284\n",
      "5.0     11.910448\n",
      "6.0     11.318182\n",
      "7.0     10.835821\n",
      "8.0     10.865672\n",
      "9.0     10.333333\n",
      "10.0    10.388060\n",
      "11.0     9.615385\n",
      "12.0     9.281250\n",
      "13.0    11.730159\n",
      "14.0    11.112903\n",
      "15.0    12.000000\n",
      "16.0    13.278689\n",
      "17.0     9.928571\n",
      "18.0    11.000000\n",
      "19.0    10.933333\n",
      "20.0     9.925000\n",
      "21.0    12.777778\n",
      "22.0    10.400000\n",
      "23.0    10.838710\n",
      "24.0    10.538462\n",
      "25.0    11.550000\n",
      "26.0    17.000000\n",
      "27.0     3.000000\n",
      "Name: place_final, dtype: float64\n",
      "\n",
      "Spearman's Rank Correlation Coefficient: -0.2024118478780228\n",
      "P-value: 0.31128709585130704\n"
     ]
    },
    {
     "data": {
      "image/png": "[encoded data removed]",
      "text/plain": [
       "<Figure size 1000x600 with 1 Axes>"
      ]
     },
     "metadata": {},
     "output_type": "display_data"
    }
   ],
   "source": [
    "def order_effects_analysis(contestants):\n",
    "    # Investigate potential ordering effects\n",
    "    contestants.info()\n",
    "    order_effects = contestants.groupby('running_final')['place_final'].mean()\n",
    "\n",
    "    # Test for correlation (Spearman's rank correlation coefficient)\n",
    "    correlation, p_value = spearmanr(order_effects.index, order_effects.values)\n",
    "    \n",
    "    # Print results\n",
    "    print(\"\\nOrdering Effects Analysis:\")\n",
    "    print(order_effects)\n",
    "    print(\"\\nSpearman's Rank Correlation Coefficient:\", correlation)\n",
    "    print(\"P-value:\", p_value)\n",
    "    \n",
    "    # Create a bar plot\n",
    "    plt.figure(figsize=(10, 6))\n",
    "    sns.barplot(x=order_effects.index, y=order_effects.values, color='skyblue')\n",
    "    plt.title('Average Final Places by Running Order')\n",
    "    plt.xlabel('Running Order')\n",
    "    plt.ylabel('Average Final Place')\n",
    "    plt.show()\n",
    "\n",
    "# Assuming 'contestants' is your DataFrame\n",
    "order_effects_analysis(contestants)"
   ]
  },
  {
   "cell_type": "markdown",
   "id": "627a23be",
   "metadata": {},
   "source": [
    "# 4. Reciprocity analysis up to 2016"
   ]
  },
  {
   "cell_type": "code",
   "execution_count": 431,
   "id": "a15a744e",
   "metadata": {},
   "outputs": [
    {
     "name": "stdout",
     "output_type": "stream",
     "text": [
      "\n",
      "Reciprocity Analysis (Up to 2017):\n",
      "Number of Reciprocal Pairs: 17946\n"
     ]
    }
   ],
   "source": [
    "\n",
    "def reciprocity_analysis(votes):\n",
    "    # Filter data up to and including 2017\n",
    "    votes_sub_2015 = votes[votes['year'] <= 2017]\n",
    "    \n",
    "    # Identify reciprocal pairs\n",
    "    reciprocal_pairs = votes_sub_2015.merge(votes_sub_2015.rename(columns={'from_country': 'to_country', 'to_country': 'from_country'}),\n",
    "                                            on=['year', 'from_country', 'to_country', 'total_points'], how='inner')\n",
    "    \n",
    "    # Print evidence of reciprocity\n",
    "    print(\"\\nReciprocity Analysis (Up to 2017):\")\n",
    "    print(\"Number of Reciprocal Pairs:\", len(reciprocal_pairs))\n",
    "\n",
    "reciprocity_analysis(votes)"
   ]
  },
  {
   "cell_type": "markdown",
   "id": "3a539146",
   "metadata": {},
   "source": [
    "# 5. Jury vs Public voting analysis from 2016 onwards"
   ]
  },
  {
   "cell_type": "code",
   "execution_count": 410,
   "id": "f121e4f1",
   "metadata": {},
   "outputs": [
    {
     "name": "stdout",
     "output_type": "stream",
     "text": [
      "\n",
      "Jury vs Public Voting Analysis (2016 onwards):\n",
      "to_country\n",
      "al    0.574586\n",
      "at    0.578488\n",
      "az    0.642820\n",
      "bg    0.673235\n",
      "ch    0.720741\n",
      "cz    0.508851\n",
      "dk    0.552284\n",
      "es    0.747721\n",
      "fr    0.777512\n",
      "ge    0.713995\n",
      "hr    0.578297\n",
      "ie    0.658238\n",
      "is    0.746565\n",
      "lt    0.567615\n",
      "md    0.596580\n",
      "mt    0.638516\n",
      "no    0.536409\n",
      "pt    0.825755\n",
      "rs    0.758355\n",
      "se    0.690396\n",
      "sm    0.439962\n",
      "Name: jury_points, dtype: float64\n"
     ]
    },
    {
     "data": {
      "image/png": "[encoded data removed]",
      "text/plain": [
       "<Figure size 640x480 with 2 Axes>"
      ]
     },
     "metadata": {},
     "output_type": "display_data"
    }
   ],
   "source": [
    "\n",
    "def jury_vs_public_analysis(contestants, votes):\n",
    "    # Filter data from 2016 onwards\n",
    "    contestants_2016_onwards = contestants[contestants['year'] >= 2016]\n",
    "    votes_2016_onwards = votes[votes['year'] >= 2016]\n",
    "    \n",
    "    # Calculate correlation between jury and public voting\n",
    "    correlation = votes_2016_onwards.groupby('to_country')[['tele_points', 'jury_points']].corr().groupby(level=0).mean().iloc[0::2, -1]\n",
    "\n",
    "    # Print correlation results\n",
    "    print(\"\\nJury vs Public Voting Analysis (2016 onwards):\")\n",
    "    print(correlation)\n",
    "\n",
    "    # Create a DataFrame from the correlation results\n",
    "    correlation_df = pd.DataFrame(correlation)\n",
    "    \n",
    "    # Reset the index for better visualization\n",
    "    correlation_df.reset_index(inplace=True)\n",
    "    \n",
    "    # Create a pivot table for better visualization\n",
    "    correlation_matrix = correlation_df.pivot_table(index='to_country', columns='to_country', values='jury_points', aggfunc='mean')\n",
    "\n",
    "    # Plot the heatmap\n",
    "    sns.heatmap(correlation_matrix, annot=True, cmap=\"coolwarm\", fmt=\".3f\", square=True)\n",
    "\n",
    "    # Show the plot\n",
    "    plt.show()\n",
    "\n",
    "jury_vs_public_analysis(contestants, votes)"
   ]
  },
  {
   "cell_type": "code",
   "execution_count": null,
   "id": "e513a9be",
   "metadata": {},
   "outputs": [],
   "source": []
  }
 ],
 "metadata": {
  "kernelspec": {
   "display_name": "Python 3 (ipykernel)",
   "language": "python",
   "name": "python3"
  },
  "language_info": {
   "codemirror_mode": {
    "name": "ipython",
    "version": 3
   },
   "file_extension": ".py",
   "mimetype": "text/x-python",
   "name": "python",
   "nbconvert_exporter": "python",
   "pygments_lexer": "ipython3",
   "version": "3.11.5"
  }
 },
 "nbformat": 4,
 "nbformat_minor": 5
}
