{
 "cells": [
  {
   "cell_type": "code",
   "execution_count": 1,
   "id": "103f8b7f",
   "metadata": {},
   "outputs": [],
   "source": [
    "import pandas as pd\n",
    "import numpy as np\n",
    "import seaborn as sns\n",
    "import matplotlib.pyplot as plt\n",
    "from scipy.stats import spearmanr"
   ]
  },
  {
   "cell_type": "code",
   "execution_count": 2,
   "id": "d836dcb5",
   "metadata": {},
   "outputs": [],
   "source": [
    "contestants_url = \"https://raw.githubusercontent.com/tturocy/eco7026a/main/2022-23/contestants.csv\"\n",
    "votes_url = \"https://raw.githubusercontent.com/tturocy/eco7026a/main/2022-23/votes.csv\""
   ]
  },
  {
   "cell_type": "markdown",
   "id": "236223b4",
   "metadata": {},
   "source": [
    "# Read the Data"
   ]
  },
  {
   "cell_type": "code",
   "execution_count": 3,
   "id": "7262748c",
   "metadata": {},
   "outputs": [],
   "source": [
    "contestants = pd.read_csv(contestants_url)\n",
    "votes = pd.read_csv(votes_url)"
   ]
  },
  {
   "cell_type": "markdown",
   "id": "00d6af41",
   "metadata": {},
   "source": [
    "# Explore Contestants Data "
   ]
  },
  {
   "cell_type": "code",
   "execution_count": 4,
   "id": "1577c593",
   "metadata": {},
   "outputs": [
    {
     "name": "stdout",
     "output_type": "stream",
     "text": [
      "<class 'pandas.core.frame.DataFrame'>\n",
      "RangeIndex: 1734 entries, 0 to 1733\n",
      "Data columns (total 21 columns):\n",
      " #   Column             Non-Null Count  Dtype  \n",
      "---  ------             --------------  -----  \n",
      " 0   year               1734 non-null   int64  \n",
      " 1   to_country_id      1734 non-null   object \n",
      " 2   to_country         1734 non-null   object \n",
      " 3   performer          1734 non-null   object \n",
      " 4   song               1731 non-null   object \n",
      " 5   place_contest      1678 non-null   float64\n",
      " 6   sf_num             640 non-null    float64\n",
      " 7   running_final      1398 non-null   float64\n",
      " 8   running_sf         605 non-null    float64\n",
      " 9   place_final        1397 non-null   float64\n",
      " 10  points_final       1385 non-null   float64\n",
      " 11  place_sf           605 non-null    float64\n",
      " 12  points_sf          605 non-null    float64\n",
      " 13  points_tele_final  181 non-null    float64\n",
      " 14  points_jury_final  181 non-null    float64\n",
      " 15  points_tele_sf     212 non-null    float64\n",
      " 16  points_jury_sf     212 non-null    float64\n",
      " 17  composers          1680 non-null   object \n",
      " 18  lyricists          985 non-null    object \n",
      " 19  lyrics             1722 non-null   object \n",
      " 20  youtube_url        1722 non-null   object \n",
      "dtypes: float64(12), int64(1), object(8)\n",
      "memory usage: 284.6+ KB\n"
     ]
    }
   ],
   "source": [
    "contestants.info()"
   ]
  },
  {
   "cell_type": "code",
   "execution_count": 8,
   "id": "84a90ada",
   "metadata": {},
   "outputs": [
    {
     "data": {
      "text/plain": [
       "(1734, 21)"
      ]
     },
     "execution_count": 8,
     "metadata": {},
     "output_type": "execute_result"
    }
   ],
   "source": [
    "contestants.shape"
   ]
  },
  {
   "cell_type": "code",
   "execution_count": 6,
   "id": "417765ef",
   "metadata": {},
   "outputs": [
    {
     "data": {
      "text/html": [
       "<div>\n",
       "<style scoped>\n",
       "    .dataframe tbody tr th:only-of-type {\n",
       "        vertical-align: middle;\n",
       "    }\n",
       "\n",
       "    .dataframe tbody tr th {\n",
       "        vertical-align: top;\n",
       "    }\n",
       "\n",
       "    .dataframe thead th {\n",
       "        text-align: right;\n",
       "    }\n",
       "</style>\n",
       "<table border=\"1\" class=\"dataframe\">\n",
       "  <thead>\n",
       "    <tr style=\"text-align: right;\">\n",
       "      <th></th>\n",
       "      <th>year</th>\n",
       "      <th>to_country_id</th>\n",
       "      <th>to_country</th>\n",
       "      <th>performer</th>\n",
       "      <th>song</th>\n",
       "      <th>place_contest</th>\n",
       "      <th>sf_num</th>\n",
       "      <th>running_final</th>\n",
       "      <th>running_sf</th>\n",
       "      <th>place_final</th>\n",
       "      <th>...</th>\n",
       "      <th>place_sf</th>\n",
       "      <th>points_sf</th>\n",
       "      <th>points_tele_final</th>\n",
       "      <th>points_jury_final</th>\n",
       "      <th>points_tele_sf</th>\n",
       "      <th>points_jury_sf</th>\n",
       "      <th>composers</th>\n",
       "      <th>lyricists</th>\n",
       "      <th>lyrics</th>\n",
       "      <th>youtube_url</th>\n",
       "    </tr>\n",
       "  </thead>\n",
       "  <tbody>\n",
       "    <tr>\n",
       "      <th>0</th>\n",
       "      <td>1956</td>\n",
       "      <td>ch</td>\n",
       "      <td>Switzerland</td>\n",
       "      <td>Lys Assia</td>\n",
       "      <td>Refrain</td>\n",
       "      <td>2.0</td>\n",
       "      <td>NaN</td>\n",
       "      <td>2.0</td>\n",
       "      <td>NaN</td>\n",
       "      <td>2.0</td>\n",
       "      <td>...</td>\n",
       "      <td>NaN</td>\n",
       "      <td>NaN</td>\n",
       "      <td>NaN</td>\n",
       "      <td>NaN</td>\n",
       "      <td>NaN</td>\n",
       "      <td>NaN</td>\n",
       "      <td>Georg Benz Stahl</td>\n",
       "      <td>NaN</td>\n",
       "      <td>(Refrain d'amour...)\\n\\nRefrain, couleur du ci...</td>\n",
       "      <td>https://youtube.com/watch?v=IyqIPvOkiRk</td>\n",
       "    </tr>\n",
       "    <tr>\n",
       "      <th>1</th>\n",
       "      <td>1956</td>\n",
       "      <td>nl</td>\n",
       "      <td>Netherlands</td>\n",
       "      <td>Jetty Paerl</td>\n",
       "      <td>De Vogels Van Holland</td>\n",
       "      <td>2.0</td>\n",
       "      <td>NaN</td>\n",
       "      <td>1.0</td>\n",
       "      <td>NaN</td>\n",
       "      <td>2.0</td>\n",
       "      <td>...</td>\n",
       "      <td>NaN</td>\n",
       "      <td>NaN</td>\n",
       "      <td>NaN</td>\n",
       "      <td>NaN</td>\n",
       "      <td>NaN</td>\n",
       "      <td>NaN</td>\n",
       "      <td>Cor Lemaire</td>\n",
       "      <td>Annie M. G. Schmidt</td>\n",
       "      <td>De vogels van Holland zijn zo muzikaal\\nZe ler...</td>\n",
       "      <td>https://youtube.com/watch?v=u45UQVGRVPA</td>\n",
       "    </tr>\n",
       "    <tr>\n",
       "      <th>2</th>\n",
       "      <td>1956</td>\n",
       "      <td>be</td>\n",
       "      <td>Belgium</td>\n",
       "      <td>Fud Leclerc</td>\n",
       "      <td>Messieurs Les Noyés De La Seine</td>\n",
       "      <td>2.0</td>\n",
       "      <td>NaN</td>\n",
       "      <td>3.0</td>\n",
       "      <td>NaN</td>\n",
       "      <td>2.0</td>\n",
       "      <td>...</td>\n",
       "      <td>NaN</td>\n",
       "      <td>NaN</td>\n",
       "      <td>NaN</td>\n",
       "      <td>NaN</td>\n",
       "      <td>NaN</td>\n",
       "      <td>NaN</td>\n",
       "      <td>Jacques Say;Jean Miret</td>\n",
       "      <td>Robert Montal</td>\n",
       "      <td>Messieurs les noyés de la Seine\\nOuvrez-moi le...</td>\n",
       "      <td>https://youtube.com/watch?v=U9O3sqlyra0</td>\n",
       "    </tr>\n",
       "    <tr>\n",
       "      <th>3</th>\n",
       "      <td>1956</td>\n",
       "      <td>de</td>\n",
       "      <td>Germany</td>\n",
       "      <td>Walter Andreas Schwarz</td>\n",
       "      <td>Im Wartesaal Zum Großen Glück</td>\n",
       "      <td>2.0</td>\n",
       "      <td>NaN</td>\n",
       "      <td>4.0</td>\n",
       "      <td>NaN</td>\n",
       "      <td>2.0</td>\n",
       "      <td>...</td>\n",
       "      <td>NaN</td>\n",
       "      <td>NaN</td>\n",
       "      <td>NaN</td>\n",
       "      <td>NaN</td>\n",
       "      <td>NaN</td>\n",
       "      <td>NaN</td>\n",
       "      <td>Walter Andreas Schwarz</td>\n",
       "      <td>NaN</td>\n",
       "      <td>Es gibt einen Hafen, da fährt kaum ein Schiff\\...</td>\n",
       "      <td>https://youtube.com/watch?v=BDNARIDnmTc</td>\n",
       "    </tr>\n",
       "    <tr>\n",
       "      <th>4</th>\n",
       "      <td>1956</td>\n",
       "      <td>fr</td>\n",
       "      <td>France</td>\n",
       "      <td>Mathé Altéry</td>\n",
       "      <td>Le Temps Perdu</td>\n",
       "      <td>2.0</td>\n",
       "      <td>NaN</td>\n",
       "      <td>5.0</td>\n",
       "      <td>NaN</td>\n",
       "      <td>2.0</td>\n",
       "      <td>...</td>\n",
       "      <td>NaN</td>\n",
       "      <td>NaN</td>\n",
       "      <td>NaN</td>\n",
       "      <td>NaN</td>\n",
       "      <td>NaN</td>\n",
       "      <td>NaN</td>\n",
       "      <td>André Lodge</td>\n",
       "      <td>Rachèle Thoreau</td>\n",
       "      <td>Chante, carillon\\nLe chant du temps perdu\\nCha...</td>\n",
       "      <td>https://youtube.com/watch?v=dm1L0XyikKI</td>\n",
       "    </tr>\n",
       "  </tbody>\n",
       "</table>\n",
       "<p>5 rows × 21 columns</p>\n",
       "</div>"
      ],
      "text/plain": [
       "   year to_country_id   to_country               performer  \\\n",
       "0  1956            ch  Switzerland               Lys Assia   \n",
       "1  1956            nl  Netherlands             Jetty Paerl   \n",
       "2  1956            be      Belgium             Fud Leclerc   \n",
       "3  1956            de      Germany  Walter Andreas Schwarz   \n",
       "4  1956            fr       France            Mathé Altéry   \n",
       "\n",
       "                              song  place_contest  sf_num  running_final  \\\n",
       "0                          Refrain            2.0     NaN            2.0   \n",
       "1            De Vogels Van Holland            2.0     NaN            1.0   \n",
       "2  Messieurs Les Noyés De La Seine            2.0     NaN            3.0   \n",
       "3    Im Wartesaal Zum Großen Glück            2.0     NaN            4.0   \n",
       "4                   Le Temps Perdu            2.0     NaN            5.0   \n",
       "\n",
       "   running_sf  place_final  ...  place_sf  points_sf  points_tele_final  \\\n",
       "0         NaN          2.0  ...       NaN        NaN                NaN   \n",
       "1         NaN          2.0  ...       NaN        NaN                NaN   \n",
       "2         NaN          2.0  ...       NaN        NaN                NaN   \n",
       "3         NaN          2.0  ...       NaN        NaN                NaN   \n",
       "4         NaN          2.0  ...       NaN        NaN                NaN   \n",
       "\n",
       "   points_jury_final  points_tele_sf  points_jury_sf               composers  \\\n",
       "0                NaN             NaN             NaN        Georg Benz Stahl   \n",
       "1                NaN             NaN             NaN             Cor Lemaire   \n",
       "2                NaN             NaN             NaN  Jacques Say;Jean Miret   \n",
       "3                NaN             NaN             NaN  Walter Andreas Schwarz   \n",
       "4                NaN             NaN             NaN             André Lodge   \n",
       "\n",
       "             lyricists                                             lyrics  \\\n",
       "0                  NaN  (Refrain d'amour...)\\n\\nRefrain, couleur du ci...   \n",
       "1  Annie M. G. Schmidt  De vogels van Holland zijn zo muzikaal\\nZe ler...   \n",
       "2        Robert Montal  Messieurs les noyés de la Seine\\nOuvrez-moi le...   \n",
       "3                  NaN  Es gibt einen Hafen, da fährt kaum ein Schiff\\...   \n",
       "4      Rachèle Thoreau  Chante, carillon\\nLe chant du temps perdu\\nCha...   \n",
       "\n",
       "                               youtube_url  \n",
       "0  https://youtube.com/watch?v=IyqIPvOkiRk  \n",
       "1  https://youtube.com/watch?v=u45UQVGRVPA  \n",
       "2  https://youtube.com/watch?v=U9O3sqlyra0  \n",
       "3  https://youtube.com/watch?v=BDNARIDnmTc  \n",
       "4  https://youtube.com/watch?v=dm1L0XyikKI  \n",
       "\n",
       "[5 rows x 21 columns]"
      ]
     },
     "execution_count": 6,
     "metadata": {},
     "output_type": "execute_result"
    }
   ],
   "source": [
    "contestants.head(5)"
   ]
  },
  {
   "cell_type": "markdown",
   "id": "1e8a8ac5",
   "metadata": {},
   "source": [
    "# Explore Votes Data "
   ]
  },
  {
   "cell_type": "code",
   "execution_count": 9,
   "id": "ac9eafdf",
   "metadata": {},
   "outputs": [
    {
     "name": "stdout",
     "output_type": "stream",
     "text": [
      "<class 'pandas.core.frame.DataFrame'>\n",
      "RangeIndex: 51354 entries, 0 to 51353\n",
      "Data columns (total 9 columns):\n",
      " #   Column           Non-Null Count  Dtype  \n",
      "---  ------           --------------  -----  \n",
      " 0   year             51354 non-null  int64  \n",
      " 1   round            51354 non-null  object \n",
      " 2   from_country_id  51354 non-null  object \n",
      " 3   to_country_id    51354 non-null  object \n",
      " 4   from_country     51354 non-null  object \n",
      " 5   to_country       51354 non-null  object \n",
      " 6   total_points     51354 non-null  int64  \n",
      " 7   tele_points      11741 non-null  float64\n",
      " 8   jury_points      11715 non-null  float64\n",
      "dtypes: float64(2), int64(2), object(5)\n",
      "memory usage: 3.5+ MB\n"
     ]
    }
   ],
   "source": [
    "votes.info()"
   ]
  },
  {
   "cell_type": "code",
   "execution_count": 10,
   "id": "47f1cf6f",
   "metadata": {},
   "outputs": [
    {
     "data": {
      "text/plain": [
       "(51354, 9)"
      ]
     },
     "execution_count": 10,
     "metadata": {},
     "output_type": "execute_result"
    }
   ],
   "source": [
    "votes.shape"
   ]
  },
  {
   "cell_type": "code",
   "execution_count": 11,
   "id": "f4b48f92",
   "metadata": {},
   "outputs": [
    {
     "data": {
      "text/html": [
       "<div>\n",
       "<style scoped>\n",
       "    .dataframe tbody tr th:only-of-type {\n",
       "        vertical-align: middle;\n",
       "    }\n",
       "\n",
       "    .dataframe tbody tr th {\n",
       "        vertical-align: top;\n",
       "    }\n",
       "\n",
       "    .dataframe thead th {\n",
       "        text-align: right;\n",
       "    }\n",
       "</style>\n",
       "<table border=\"1\" class=\"dataframe\">\n",
       "  <thead>\n",
       "    <tr style=\"text-align: right;\">\n",
       "      <th></th>\n",
       "      <th>year</th>\n",
       "      <th>round</th>\n",
       "      <th>from_country_id</th>\n",
       "      <th>to_country_id</th>\n",
       "      <th>from_country</th>\n",
       "      <th>to_country</th>\n",
       "      <th>total_points</th>\n",
       "      <th>tele_points</th>\n",
       "      <th>jury_points</th>\n",
       "    </tr>\n",
       "  </thead>\n",
       "  <tbody>\n",
       "    <tr>\n",
       "      <th>0</th>\n",
       "      <td>1957</td>\n",
       "      <td>final</td>\n",
       "      <td>at</td>\n",
       "      <td>nl</td>\n",
       "      <td>at</td>\n",
       "      <td>nl</td>\n",
       "      <td>6</td>\n",
       "      <td>NaN</td>\n",
       "      <td>NaN</td>\n",
       "    </tr>\n",
       "    <tr>\n",
       "      <th>1</th>\n",
       "      <td>1957</td>\n",
       "      <td>final</td>\n",
       "      <td>at</td>\n",
       "      <td>fr</td>\n",
       "      <td>at</td>\n",
       "      <td>fr</td>\n",
       "      <td>0</td>\n",
       "      <td>NaN</td>\n",
       "      <td>NaN</td>\n",
       "    </tr>\n",
       "    <tr>\n",
       "      <th>2</th>\n",
       "      <td>1957</td>\n",
       "      <td>final</td>\n",
       "      <td>at</td>\n",
       "      <td>dk</td>\n",
       "      <td>at</td>\n",
       "      <td>dk</td>\n",
       "      <td>0</td>\n",
       "      <td>NaN</td>\n",
       "      <td>NaN</td>\n",
       "    </tr>\n",
       "    <tr>\n",
       "      <th>3</th>\n",
       "      <td>1957</td>\n",
       "      <td>final</td>\n",
       "      <td>at</td>\n",
       "      <td>lu</td>\n",
       "      <td>at</td>\n",
       "      <td>lu</td>\n",
       "      <td>3</td>\n",
       "      <td>NaN</td>\n",
       "      <td>NaN</td>\n",
       "    </tr>\n",
       "    <tr>\n",
       "      <th>4</th>\n",
       "      <td>1957</td>\n",
       "      <td>final</td>\n",
       "      <td>at</td>\n",
       "      <td>de</td>\n",
       "      <td>at</td>\n",
       "      <td>de</td>\n",
       "      <td>0</td>\n",
       "      <td>NaN</td>\n",
       "      <td>NaN</td>\n",
       "    </tr>\n",
       "    <tr>\n",
       "      <th>5</th>\n",
       "      <td>1957</td>\n",
       "      <td>final</td>\n",
       "      <td>at</td>\n",
       "      <td>it</td>\n",
       "      <td>at</td>\n",
       "      <td>it</td>\n",
       "      <td>0</td>\n",
       "      <td>NaN</td>\n",
       "      <td>NaN</td>\n",
       "    </tr>\n",
       "    <tr>\n",
       "      <th>6</th>\n",
       "      <td>1957</td>\n",
       "      <td>final</td>\n",
       "      <td>at</td>\n",
       "      <td>gb</td>\n",
       "      <td>at</td>\n",
       "      <td>gb</td>\n",
       "      <td>1</td>\n",
       "      <td>NaN</td>\n",
       "      <td>NaN</td>\n",
       "    </tr>\n",
       "    <tr>\n",
       "      <th>7</th>\n",
       "      <td>1957</td>\n",
       "      <td>final</td>\n",
       "      <td>at</td>\n",
       "      <td>be</td>\n",
       "      <td>at</td>\n",
       "      <td>be</td>\n",
       "      <td>0</td>\n",
       "      <td>NaN</td>\n",
       "      <td>NaN</td>\n",
       "    </tr>\n",
       "    <tr>\n",
       "      <th>8</th>\n",
       "      <td>1957</td>\n",
       "      <td>final</td>\n",
       "      <td>at</td>\n",
       "      <td>ch</td>\n",
       "      <td>at</td>\n",
       "      <td>ch</td>\n",
       "      <td>0</td>\n",
       "      <td>NaN</td>\n",
       "      <td>NaN</td>\n",
       "    </tr>\n",
       "    <tr>\n",
       "      <th>9</th>\n",
       "      <td>1957</td>\n",
       "      <td>final</td>\n",
       "      <td>at</td>\n",
       "      <td>at</td>\n",
       "      <td>at</td>\n",
       "      <td>at</td>\n",
       "      <td>0</td>\n",
       "      <td>NaN</td>\n",
       "      <td>NaN</td>\n",
       "    </tr>\n",
       "  </tbody>\n",
       "</table>\n",
       "</div>"
      ],
      "text/plain": [
       "   year  round from_country_id to_country_id from_country to_country  \\\n",
       "0  1957  final              at            nl           at         nl   \n",
       "1  1957  final              at            fr           at         fr   \n",
       "2  1957  final              at            dk           at         dk   \n",
       "3  1957  final              at            lu           at         lu   \n",
       "4  1957  final              at            de           at         de   \n",
       "5  1957  final              at            it           at         it   \n",
       "6  1957  final              at            gb           at         gb   \n",
       "7  1957  final              at            be           at         be   \n",
       "8  1957  final              at            ch           at         ch   \n",
       "9  1957  final              at            at           at         at   \n",
       "\n",
       "   total_points  tele_points  jury_points  \n",
       "0             6          NaN          NaN  \n",
       "1             0          NaN          NaN  \n",
       "2             0          NaN          NaN  \n",
       "3             3          NaN          NaN  \n",
       "4             0          NaN          NaN  \n",
       "5             0          NaN          NaN  \n",
       "6             1          NaN          NaN  \n",
       "7             0          NaN          NaN  \n",
       "8             0          NaN          NaN  \n",
       "9             0          NaN          NaN  "
      ]
     },
     "execution_count": 11,
     "metadata": {},
     "output_type": "execute_result"
    }
   ],
   "source": [
    "votes.head(10)"
   ]
  },
  {
   "cell_type": "markdown",
   "id": "3183b9dd",
   "metadata": {},
   "source": [
    "# Filter Contestants and Votes to use Data For the Years with Current Point System "
   ]
  },
  {
   "cell_type": "code",
   "execution_count": 13,
   "id": "dc9f2eda",
   "metadata": {},
   "outputs": [],
   "source": [
    "current_point_system_start_year = 1975\n",
    "# Filter contestants and votes datasets based on the detected year\n",
    "contestants = contestants[(contestants['year'] >= current_point_system_start_year)]\n",
    "votes = votes[(votes['year'] >= current_point_system_start_year) & (votes['round'] == 'final')]"
   ]
  },
  {
   "cell_type": "markdown",
   "id": "824f9c4f",
   "metadata": {},
   "source": [
    "# Explore Data Sets after Filtering "
   ]
  },
  {
   "cell_type": "code",
   "execution_count": 14,
   "id": "3874cbf2",
   "metadata": {},
   "outputs": [
    {
     "data": {
      "text/plain": [
       "(1446, 21)"
      ]
     },
     "execution_count": 14,
     "metadata": {},
     "output_type": "execute_result"
    }
   ],
   "source": [
    "contestants.shape"
   ]
  },
  {
   "cell_type": "code",
   "execution_count": 15,
   "id": "6ce87534",
   "metadata": {},
   "outputs": [
    {
     "data": {
      "text/plain": [
       "(33140, 9)"
      ]
     },
     "execution_count": 15,
     "metadata": {},
     "output_type": "execute_result"
    }
   ],
   "source": [
    "votes.shape"
   ]
  },
  {
   "cell_type": "markdown",
   "id": "5b6237d4",
   "metadata": {},
   "source": [
    "# Question 1a : Data Consistency Check for Contestants Votes"
   ]
  },
  {
   "cell_type": "code",
   "execution_count": 17,
   "id": "4a5cff8f",
   "metadata": {},
   "outputs": [
    {
     "name": "stdout",
     "output_type": "stream",
     "text": [
      "\n",
      "Internal Consistency Verification:\n",
      "Points Consistency: True\n"
     ]
    }
   ],
   "source": [
    "def contestants_votes_consistency_check(contestants , votes):\n",
    "    contestants_points_final = contestants[['year', 'to_country_id', 'points_final']].dropna(subset=['points_final'])\n",
    "    contestants_points_final.rename(columns={'points_final': 'total_points' , 'to_country_id' : 'to_country'}, inplace=True)\n",
    "    \n",
    "    contestant_points = contestants_points_final['total_points']\n",
    "    votes_total_points = votes.groupby(['year', 'to_country'])['total_points'].sum().reset_index()['total_points']\n",
    "\n",
    "    # Sort the arrays\n",
    "    contestant_points_sorted = np.sort(contestant_points.to_numpy())\n",
    "    votes_total_points_sorted = np.sort(votes_total_points.to_numpy())\n",
    "\n",
    "    # Compare the sorted arrays\n",
    "    points_check = np.array_equal(contestant_points_sorted, votes_total_points_sorted)\n",
    "\n",
    "    # Print the result of the comparison\n",
    "    print(\"\\nInternal Consistency Verification:\")\n",
    "    print(\"Points Consistency:\", points_check)\n",
    "contestants_votes_consistency_check(contestants,votes)"
   ]
  },
  {
   "cell_type": "code",
   "execution_count": 28,
   "id": "30886192",
   "metadata": {},
   "outputs": [
    {
     "name": "stdout",
     "output_type": "stream",
     "text": [
      "         to_country  year  points_final  place_final\n",
      "604          Sweden  1991         146.0          1.0\n",
      "605          France  1991         146.0          2.0\n",
      "606          Israel  1991         139.0          3.0\n",
      "607           Spain  1991         119.0          4.0\n",
      "608     Switzerland  1991         118.0          5.0\n",
      "609           Malta  1991         106.0          6.0\n",
      "610           Italy  1991          89.0          7.0\n",
      "611        Portugal  1991          62.0          8.0\n",
      "612          Cyprus  1991          60.0          9.0\n",
      "613         Ireland  1991          47.0         10.0\n",
      "614  United Kingdom  1991          47.0         10.0\n",
      "615          Turkey  1991          44.0         12.0\n",
      "616          Greece  1991          36.0         13.0\n",
      "617      Luxembourg  1991          29.0         14.0\n",
      "618         Iceland  1991          26.0         15.0\n",
      "619         Belgium  1991          23.0         16.0\n",
      "620          Norway  1991          14.0         17.0\n",
      "621         Germany  1991          10.0         18.0\n",
      "622         Denmark  1991           8.0         19.0\n",
      "623         Finland  1991           6.0         20.0\n",
      "624      Yugoslavia  1991           1.0         21.0\n",
      "625         Austria  1991           0.0         22.0\n",
      "Discrepancies found:\n",
      "Year: 1991, Country: Sweden, Rank Mismatch\n",
      "Year: 1991, Country: France, Rank Mismatch\n",
      "Year: 2008, Country: Georgia, Rank Mismatch\n",
      "Year: 2008, Country: Latvia, Rank Mismatch\n",
      "Year: 2008, Country: Spain, Rank Mismatch\n",
      "Year: 2008, Country: Albania, Rank Mismatch\n",
      "Year: 2008, Country: Sweden, Rank Mismatch\n",
      "Year: 2008, Country: France, Rank Mismatch\n",
      "Year: 2008, Country: Germany, Rank Mismatch\n",
      "Year: 2008, Country: Poland, Rank Mismatch\n",
      "Year: 2008, Country: United Kingdom, Rank Mismatch\n",
      "Year: 2009, Country: Lithuania, Rank Mismatch\n",
      "Year: 2009, Country: Spain, Rank Mismatch\n",
      "Year: 2010, Country: Cyprus, Rank Mismatch\n",
      "Year: 2010, Country: Moldova, Rank Mismatch\n",
      "Year: 2011, Country: Russia, Rank Mismatch\n",
      "Year: 2011, Country: Romania, Rank Mismatch\n",
      "Year: 2012, Country: Romania, Rank Mismatch\n",
      "Year: 2012, Country: North Macedonia, Rank Mismatch\n",
      "Year: 2012, Country: Ukraine, Rank Mismatch\n",
      "Year: 2012, Country: Cyprus, Rank Mismatch\n",
      "Year: 2012, Country: Ireland, Rank Mismatch\n",
      "Year: 2012, Country: Iceland, Rank Mismatch\n",
      "Year: 2012, Country: France, Rank Mismatch\n",
      "Year: 2012, Country: Denmark, Rank Mismatch\n",
      "Year: 2013, Country: Moldova, Rank Mismatch\n",
      "Year: 2013, Country: Belgium, Rank Mismatch\n",
      "Year: 2014, Country: Denmark, Rank Mismatch\n",
      "Year: 2014, Country: Spain, Rank Mismatch\n",
      "Year: 2014, Country: Finland, Rank Mismatch\n",
      "Year: 2014, Country: Romania, Rank Mismatch\n",
      "Year: 2014, Country: Italy, Rank Mismatch\n",
      "Year: 2014, Country: Azerbaijan, Rank Mismatch\n",
      "Year: 2015, Country: Armenia, Rank Mismatch\n",
      "Year: 2015, Country: Albania, Rank Mismatch\n",
      "Year: 2015, Country: Austria, Rank Mismatch\n",
      "Year: 2015, Country: Germany, Rank Mismatch\n",
      "Year: 2016, Country: Netherlands, Rank Mismatch\n",
      "Year: 2016, Country: Malta, Rank Mismatch\n",
      "Year: 2017, Country: Greece, Rank Mismatch\n",
      "Year: 2017, Country: Denmark, Rank Mismatch\n",
      "Year: 2019, Country: Slovenia, Rank Mismatch\n",
      "Year: 2019, Country: France, Rank Mismatch\n",
      "Year: 2021, Country: Greece, Rank Mismatch\n",
      "Year: 2021, Country: Bulgaria, Rank Mismatch\n",
      "Year: 2022, Country: Finland, Rank Mismatch\n",
      "Year: 2022, Country: Czechia, Rank Mismatch\n"
     ]
    }
   ],
   "source": [
    "def check_rank_consistency(contestants):\n",
    "    inconsistent_entries = []\n",
    "    #Clean the contestants dataframe by dropping rows whose points_final is NaN\n",
    "    contestants_df = contestants[['to_country' , 'year', 'points_final', 'place_final']].dropna(subset=['points_final' , 'place_final'])\n",
    "    nine = contestants_df[(contestants_df['year'] == 1975)]\n",
    "    print(nine)\n",
    "    for index, contestant in contestants_df.iterrows():\n",
    "\n",
    "        # Verify ranking of contestants\n",
    "        expected_rank = contestants_df[contestants_df['year'] == contestant['year']].sort_values(by='points_final', ascending=False).reset_index(drop=True)\n",
    "        if contestant['place_final'] != expected_rank[expected_rank['to_country'] == contestant['to_country']].index[0] + 1:\n",
    "            inconsistent_entries.append(f\"Year: {contestant['year']}, Country: {contestant['to_country']}, Rank Mismatch\")\n",
    "\n",
    "    # Report discrepancies\n",
    "    if inconsistent_entries:\n",
    "        print(\"Discrepancies found:\")\n",
    "        for entry in inconsistent_entries:\n",
    "            print(entry)\n",
    "    else:\n",
    "        print(\"No discrepancies found.\")\n",
    "check_rank_consistency(contestants)"
   ]
  },
  {
   "cell_type": "markdown",
   "id": "7a92bf80",
   "metadata": {},
   "source": [
    "# 2. Most and least successful countries"
   ]
  },
  {
   "cell_type": "code",
   "execution_count": 32,
   "id": "8ca8fe81",
   "metadata": {},
   "outputs": [
    {
     "name": "stdout",
     "output_type": "stream",
     "text": [
      "The most successful countries based on mean are:\n",
      "\n",
      " to_country\n",
      "Bulgaria     283.000000\n",
      "Australia    219.857143\n",
      "Ukraine      201.277778\n",
      "Name: points_final, dtype: float64\n",
      "\n",
      "The least successful countries based on mean are:\n",
      "\n",
      " to_country\n",
      "Morocco        7.0\n",
      "Slovakia      14.0\n",
      "Montenegro    40.5\n",
      "Name: points_final, dtype: float64\n"
     ]
    },
    {
     "data": {
      "image/png": "[encoded data removed]",
      "text/plain": [
       "<Figure size 800x400 with 1 Axes>"
      ]
     },
     "metadata": {},
     "output_type": "display_data"
    }
   ],
   "source": [
    "def most_least_successful(contestants, votes):\n",
    "    # Define success measure \n",
    "    success_measure = 'points_final'\n",
    "    \n",
    "    # mean and median success measures for each country\n",
    "    country_mean_success = contestants.groupby('to_country')[success_measure].mean()\n",
    "\n",
    "    # Identify most and least successful countries based on mean\n",
    "    most_successful_countries_mean = country_mean_success.nlargest(3)\n",
    "    least_successful_countries_mean = country_mean_success.nsmallest(3)\n",
    "\n",
    "   \n",
    "\n",
    "    print(\"The most successful countries based on mean are:\")\n",
    "    print(\"\\n\", most_successful_countries_mean)\n",
    "    \n",
    "    print(\"\\nThe least successful countries based on mean are:\")\n",
    "    print(\"\\n\", least_successful_countries_mean)\n",
    "    # Plot bar chart\n",
    "    plt.figure(figsize=(8, 4))\n",
    "\n",
    "    # Plot most successful countries\n",
    "    plt.bar(most_successful_countries_mean.index, most_successful_countries_mean, color='green', label='Most Successful')\n",
    "\n",
    "    # Plot least successful countries\n",
    "    plt.bar(least_successful_countries_mean.index, least_successful_countries_mean, color='red', label='Least Successful')\n",
    "\n",
    "    plt.ylabel(success_measure.capitalize())\n",
    "    plt.title('Most and Least Successful Countries Based on Mean')\n",
    "    plt.legend()\n",
    "    plt.xticks(rotation=45, ha=\"right\")  # Rotate x-axis labels for better visibility\n",
    "    plt.show()\n",
    "\n",
    "most_least_successful(contestants, votes)"
   ]
  },
  {
   "cell_type": "markdown",
   "id": "05f95ff4",
   "metadata": {},
   "source": [
    "# 3. Ordering Effects Analysis "
   ]
  },
  {
   "cell_type": "code",
   "execution_count": 35,
   "id": "14a23255",
   "metadata": {},
   "outputs": [
    {
     "name": "stdout",
     "output_type": "stream",
     "text": [
      "\n",
      "Ordering Effects Analysis:\n",
      "running_final\n",
      "1.0     12.312500\n",
      "2.0     15.437500\n",
      "3.0     13.666667\n",
      "4.0     13.687500\n",
      "5.0     13.625000\n",
      "6.0     12.812500\n",
      "7.0     12.291667\n",
      "8.0     12.270833\n",
      "9.0     11.250000\n",
      "10.0    11.916667\n",
      "11.0    10.854167\n",
      "12.0    10.333333\n",
      "13.0    12.541667\n",
      "14.0    12.145833\n",
      "15.0    12.979167\n",
      "16.0    13.833333\n",
      "17.0    10.750000\n",
      "18.0    11.125000\n",
      "19.0    10.933333\n",
      "20.0     9.925000\n",
      "21.0    12.777778\n",
      "22.0    10.400000\n",
      "23.0    10.838710\n",
      "24.0    10.538462\n",
      "25.0    11.550000\n",
      "26.0    17.000000\n",
      "27.0     3.000000\n",
      "Name: place_final, dtype: float64\n",
      "\n",
      "Spearman's Rank Correlation Coefficient: -0.49328449328449325\n",
      "P-value: 0.008934226203302928\n"
     ]
    },
    {
     "data": {
      "image/png": "[encoded data removed]",
      "text/plain": [
       "<Figure size 1000x600 with 1 Axes>"
      ]
     },
     "metadata": {},
     "output_type": "display_data"
    }
   ],
   "source": [
    "def order_effects_analysis(contestants):\n",
    "    # Investigate potential ordering effects\n",
    "    order_effects = contestants.groupby('running_final')['place_final'].mean()\n",
    "\n",
    "    # Test for correlation (Spearman's rank correlation coefficient)\n",
    "    correlation, p_value = spearmanr(order_effects.index, order_effects.values)\n",
    "    \n",
    "    # Print results\n",
    "    print(\"\\nOrdering Effects Analysis:\")\n",
    "    print(order_effects)\n",
    "    print(\"\\nSpearman's Rank Correlation Coefficient:\", correlation)\n",
    "    print(\"P-value:\", p_value)\n",
    "    \n",
    "    # Create a bar plot\n",
    "    plt.figure(figsize=(10, 6))\n",
    "    sns.barplot(x=order_effects.index, y=order_effects.values, color='skyblue')\n",
    "    plt.title('Average Final Places by Running Order')\n",
    "    plt.xlabel('Running Order')\n",
    "    plt.ylabel('Average Final Place')\n",
    "    plt.show()\n",
    "\n",
    "# Assuming 'contestants' is your DataFrame\n",
    "order_effects_analysis(contestants)"
   ]
  },
  {
   "cell_type": "markdown",
   "id": "49375c5d",
   "metadata": {},
   "source": [
    "# 4. Reciprocity analysis up to 2015"
   ]
  },
  {
   "cell_type": "code",
   "execution_count": 46,
   "id": "2737705a",
   "metadata": {},
   "outputs": [
    {
     "name": "stdout",
     "output_type": "stream",
     "text": [
      "\n",
      "Reciprocity Analysis (Up to 2015):\n",
      "Number of Reciprocal Pairs: 8094\n",
      "\n",
      "Reciprocal Pairs:\n",
      "     from_country to_country\n",
      "0              be         lu\n",
      "1              be         fi\n",
      "2              be         mc\n",
      "3              be         be\n",
      "4              be         pt\n",
      "...           ...        ...\n",
      "8089           gb         cy\n",
      "8090           gb         gb\n",
      "8091           gb         fr\n",
      "8092           gb         at\n",
      "8093           gb         de\n",
      "\n",
      "[8094 rows x 2 columns]\n"
     ]
    },
    {
     "data": {
      "image/png": "[encoded data removed]",
      "text/plain": [
       "<Figure size 1000x600 with 1 Axes>"
      ]
     },
     "metadata": {},
     "output_type": "display_data"
    }
   ],
   "source": [
    "\n",
    "def reciprocity_analysis(votes):\n",
    "    # Filter data up to and including 2015\n",
    "    votes_sub_2015 = votes[votes['year'] <= 2015]\n",
    "    \n",
    "    # Identify reciprocal pairs\n",
    "    reciprocal_pairs = votes_sub_2015.merge(votes_sub_2015.rename(columns={'from_country': 'to_country', 'to_country': 'from_country'}),\n",
    "                                            on=['year', 'from_country', 'to_country', 'total_points'], how='inner')\n",
    "    \n",
    "    # Print evidence of reciprocity and countries that reciprocate votes\n",
    "    print(\"\\nReciprocity Analysis (Up to 2015):\")\n",
    "    print(\"Number of Reciprocal Pairs:\", len(reciprocal_pairs))\n",
    "    if not reciprocal_pairs.empty:\n",
    "        print(\"\\nReciprocal Pairs:\")\n",
    "        print(reciprocal_pairs[['from_country', 'to_country']])\n",
    "    \n",
    "     # Plot a histogram of reciprocal votes\n",
    "    if not reciprocal_pairs.empty:\n",
    "        plt.figure(figsize=(10, 6))\n",
    "        sns.histplot(reciprocal_pairs['total_points'], bins=20,  color='skyblue', edgecolor='black')\n",
    "        plt.title('Histogram of Reciprocal Votes')\n",
    "        plt.xlabel('Total Points')\n",
    "        plt.ylabel('Frequency')\n",
    "        \n",
    "        \n",
    "        plt.show()\n",
    "\n",
    "reciprocity_analysis(votes)"
   ]
  },
  {
   "cell_type": "markdown",
   "id": "4dc1697f",
   "metadata": {},
   "source": [
    "# 5. Jury vs Public voting analysis from 2016 onwards"
   ]
  },
  {
   "cell_type": "code",
   "execution_count": 37,
   "id": "a0584fc8",
   "metadata": {},
   "outputs": [
    {
     "name": "stdout",
     "output_type": "stream",
     "text": [
      "\n",
      "Jury vs Public Voting Analysis (2016 onwards):\n",
      "to_country\n",
      "al    0.574586\n",
      "at    0.578488\n",
      "az    0.642820\n",
      "bg    0.673235\n",
      "ch    0.720741\n",
      "cz    0.508851\n",
      "dk    0.552284\n",
      "es    0.747721\n",
      "fr    0.777512\n",
      "ge    0.713995\n",
      "hr    0.578297\n",
      "ie    0.658238\n",
      "is    0.746565\n",
      "lt    0.567615\n",
      "md    0.596580\n",
      "mt    0.638516\n",
      "no    0.536409\n",
      "pt    0.825755\n",
      "rs    0.758355\n",
      "se    0.690396\n",
      "sm    0.439962\n",
      "Name: jury_points, dtype: float64\n"
     ]
    },
    {
     "data": {
      "image/png": "[encoded data removed]",
      "text/plain": [
       "<Figure size 640x480 with 2 Axes>"
      ]
     },
     "metadata": {},
     "output_type": "display_data"
    }
   ],
   "source": [
    "def jury_vs_public_analysis(contestants, votes):\n",
    "    # Filter data from 2016 onwards\n",
    "    contestants_2016_onwards = contestants[contestants['year'] >= 2016]\n",
    "    votes_2016_onwards = votes[votes['year'] >= 2016]\n",
    "    \n",
    "    # Calculate correlation between jury and public voting\n",
    "    correlation = votes_2016_onwards.groupby('to_country')[['tele_points', 'jury_points']].corr().groupby(level=0).mean().iloc[0::2, -1]\n",
    "\n",
    "    # Print correlation results\n",
    "    print(\"\\nJury vs Public Voting Analysis (2016 onwards):\")\n",
    "    print(correlation)\n",
    "\n",
    "    # Create a DataFrame from the correlation results\n",
    "    correlation_df = pd.DataFrame(correlation)\n",
    "    \n",
    "    # Reset the index for better visualization\n",
    "    correlation_df.reset_index(inplace=True)\n",
    "    \n",
    "    # Create a pivot table for better visualization\n",
    "    correlation_matrix = correlation_df.pivot_table(index='to_country', columns='to_country', values='jury_points', aggfunc='mean')\n",
    "\n",
    "    # Plot the heatmap\n",
    "    sns.heatmap(correlation_matrix, annot=True, cmap=\"coolwarm\", fmt=\".3f\", square=True)\n",
    "\n",
    "    # Show the plot\n",
    "    plt.show()\n",
    "\n",
    "jury_vs_public_analysis(contestants, votes)"
   ]
  },
  {
   "cell_type": "code",
   "execution_count": null,
   "id": "55b71777",
   "metadata": {},
   "outputs": [],
   "source": []
  }
 ],
 "metadata": {
  "kernelspec": {
   "display_name": "Python 3 (ipykernel)",
   "language": "python",
   "name": "python3"
  },
  "language_info": {
   "codemirror_mode": {
    "name": "ipython",
    "version": 3
   },
   "file_extension": ".py",
   "mimetype": "text/x-python",
   "name": "python",
   "nbconvert_exporter": "python",
   "pygments_lexer": "ipython3",
   "version": "3.11.5"
  }
 },
 "nbformat": 4,
 "nbformat_minor": 5
}
