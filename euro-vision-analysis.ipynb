{
 "cells": [
  {
   "cell_type": "code",
   "execution_count": 318,
   "id": "cb1a276e",
   "metadata": {},
   "outputs": [],
   "source": [
    "import pandas as pd\n",
    "import numpy as np\n",
    "import seaborn as sns\n",
    "import matplotlib.pyplot as plt\n",
    "from scipy.stats import spearmanr"
   ]
  },
  {
   "cell_type": "code",
   "execution_count": 211,
   "id": "b3e30bb6",
   "metadata": {},
   "outputs": [],
   "source": [
    "contestants_url = \"https://raw.githubusercontent.com/tturocy/eco7026a/main/2022-23/contestants.csv\"\n",
    "votes_url = \"https://raw.githubusercontent.com/tturocy/eco7026a/main/2022-23/votes.csv\""
   ]
  },
  {
   "cell_type": "markdown",
   "id": "26609b5c",
   "metadata": {},
   "source": [
    "# Read the Data"
   ]
  },
  {
   "cell_type": "code",
   "execution_count": 203,
   "id": "4a22f4ad",
   "metadata": {},
   "outputs": [],
   "source": [
    "contestants = pd.read_csv(contestants_url)\n",
    "votes = pd.read_csv(votes_url)"
   ]
  },
  {
   "cell_type": "markdown",
   "id": "144680c5",
   "metadata": {},
   "source": [
    "# Explore Contestants Data "
   ]
  },
  {
   "cell_type": "code",
   "execution_count": 199,
   "id": "8f131aa1",
   "metadata": {},
   "outputs": [
    {
     "name": "stdout",
     "output_type": "stream",
     "text": [
      "<class 'pandas.core.frame.DataFrame'>\n",
      "RangeIndex: 1734 entries, 0 to 1733\n",
      "Data columns (total 21 columns):\n",
      " #   Column             Non-Null Count  Dtype  \n",
      "---  ------             --------------  -----  \n",
      " 0   year               1734 non-null   int64  \n",
      " 1   to_country_id      1734 non-null   object \n",
      " 2   to_country         1734 non-null   object \n",
      " 3   performer          1734 non-null   object \n",
      " 4   song               1731 non-null   object \n",
      " 5   place_contest      1678 non-null   float64\n",
      " 6   sf_num             640 non-null    float64\n",
      " 7   running_final      1398 non-null   float64\n",
      " 8   running_sf         605 non-null    float64\n",
      " 9   place_final        1397 non-null   float64\n",
      " 10  points_final       1385 non-null   float64\n",
      " 11  place_sf           605 non-null    float64\n",
      " 12  points_sf          605 non-null    float64\n",
      " 13  points_tele_final  181 non-null    float64\n",
      " 14  points_jury_final  181 non-null    float64\n",
      " 15  points_tele_sf     212 non-null    float64\n",
      " 16  points_jury_sf     212 non-null    float64\n",
      " 17  composers          1680 non-null   object \n",
      " 18  lyricists          985 non-null    object \n",
      " 19  lyrics             1722 non-null   object \n",
      " 20  youtube_url        1722 non-null   object \n",
      "dtypes: float64(12), int64(1), object(8)\n",
      "memory usage: 284.6+ KB\n"
     ]
    }
   ],
   "source": [
    "contestants.info()"
   ]
  },
  {
   "cell_type": "code",
   "execution_count": 175,
   "id": "0e2cf0c6",
   "metadata": {},
   "outputs": [
    {
     "data": {
      "text/html": [
       "<div>\n",
       "<style scoped>\n",
       "    .dataframe tbody tr th:only-of-type {\n",
       "        vertical-align: middle;\n",
       "    }\n",
       "\n",
       "    .dataframe tbody tr th {\n",
       "        vertical-align: top;\n",
       "    }\n",
       "\n",
       "    .dataframe thead th {\n",
       "        text-align: right;\n",
       "    }\n",
       "</style>\n",
       "<table border=\"1\" class=\"dataframe\">\n",
       "  <thead>\n",
       "    <tr style=\"text-align: right;\">\n",
       "      <th></th>\n",
       "      <th>year</th>\n",
       "      <th>to_country_id</th>\n",
       "      <th>to_country</th>\n",
       "      <th>performer</th>\n",
       "      <th>song</th>\n",
       "      <th>place_contest</th>\n",
       "      <th>sf_num</th>\n",
       "      <th>running_final</th>\n",
       "      <th>running_sf</th>\n",
       "      <th>place_final</th>\n",
       "      <th>...</th>\n",
       "      <th>place_sf</th>\n",
       "      <th>points_sf</th>\n",
       "      <th>points_tele_final</th>\n",
       "      <th>points_jury_final</th>\n",
       "      <th>points_tele_sf</th>\n",
       "      <th>points_jury_sf</th>\n",
       "      <th>composers</th>\n",
       "      <th>lyricists</th>\n",
       "      <th>lyrics</th>\n",
       "      <th>youtube_url</th>\n",
       "    </tr>\n",
       "  </thead>\n",
       "  <tbody>\n",
       "    <tr>\n",
       "      <th>1394</th>\n",
       "      <td>2016</td>\n",
       "      <td>ua</td>\n",
       "      <td>Ukraine</td>\n",
       "      <td>Jamala</td>\n",
       "      <td>1944</td>\n",
       "      <td>1.0</td>\n",
       "      <td>2.0</td>\n",
       "      <td>21.0</td>\n",
       "      <td>14.0</td>\n",
       "      <td>1.0</td>\n",
       "      <td>...</td>\n",
       "      <td>2.0</td>\n",
       "      <td>287.0</td>\n",
       "      <td>323.0</td>\n",
       "      <td>211.0</td>\n",
       "      <td>152.0</td>\n",
       "      <td>135.0</td>\n",
       "      <td>Jamala</td>\n",
       "      <td>NaN</td>\n",
       "      <td>When strangers are coming\\nThey come to your h...</td>\n",
       "      <td>https://youtube.com/watch?v=B-rnM-MwRHY</td>\n",
       "    </tr>\n",
       "    <tr>\n",
       "      <th>1395</th>\n",
       "      <td>2016</td>\n",
       "      <td>au</td>\n",
       "      <td>Australia</td>\n",
       "      <td>Dami Im</td>\n",
       "      <td>Sound of Silence</td>\n",
       "      <td>2.0</td>\n",
       "      <td>2.0</td>\n",
       "      <td>13.0</td>\n",
       "      <td>10.0</td>\n",
       "      <td>2.0</td>\n",
       "      <td>...</td>\n",
       "      <td>1.0</td>\n",
       "      <td>330.0</td>\n",
       "      <td>191.0</td>\n",
       "      <td>320.0</td>\n",
       "      <td>142.0</td>\n",
       "      <td>188.0</td>\n",
       "      <td>Anthony Egizii;David Musumeci</td>\n",
       "      <td>NaN</td>\n",
       "      <td>Growing tired and weary brown eyes\\nTrying to ...</td>\n",
       "      <td>https://youtube.com/watch?v=5ymFX91HwM0</td>\n",
       "    </tr>\n",
       "    <tr>\n",
       "      <th>1396</th>\n",
       "      <td>2016</td>\n",
       "      <td>ru</td>\n",
       "      <td>Russia</td>\n",
       "      <td>Sergey Lazarev</td>\n",
       "      <td>You Are the Only One</td>\n",
       "      <td>3.0</td>\n",
       "      <td>1.0</td>\n",
       "      <td>18.0</td>\n",
       "      <td>9.0</td>\n",
       "      <td>3.0</td>\n",
       "      <td>...</td>\n",
       "      <td>1.0</td>\n",
       "      <td>342.0</td>\n",
       "      <td>361.0</td>\n",
       "      <td>130.0</td>\n",
       "      <td>194.0</td>\n",
       "      <td>148.0</td>\n",
       "      <td>Dimitris Kontopoulos;Philipp Kirkorov</td>\n",
       "      <td>John Ballard;Ralph Charlie</td>\n",
       "      <td>We can never let the word be unspoken\\nWe will...</td>\n",
       "      <td>https://youtube.com/watch?v=e94dst20C9Y</td>\n",
       "    </tr>\n",
       "    <tr>\n",
       "      <th>1397</th>\n",
       "      <td>2016</td>\n",
       "      <td>bg</td>\n",
       "      <td>Bulgaria</td>\n",
       "      <td>Poli Genova</td>\n",
       "      <td>If Love Was a Crime</td>\n",
       "      <td>4.0</td>\n",
       "      <td>2.0</td>\n",
       "      <td>8.0</td>\n",
       "      <td>12.0</td>\n",
       "      <td>4.0</td>\n",
       "      <td>...</td>\n",
       "      <td>5.0</td>\n",
       "      <td>220.0</td>\n",
       "      <td>180.0</td>\n",
       "      <td>127.0</td>\n",
       "      <td>122.0</td>\n",
       "      <td>98.0</td>\n",
       "      <td>Borislav Milanov;Joacim Persson;Sebastian Arman</td>\n",
       "      <td>Borislav Milanov;Joacim Persson;Poli Genova;Se...</td>\n",
       "      <td>You and I we collide\\nLike the stars on the su...</td>\n",
       "      <td>https://youtube.com/watch?v=PQqUTigWKHY</td>\n",
       "    </tr>\n",
       "    <tr>\n",
       "      <th>1398</th>\n",
       "      <td>2016</td>\n",
       "      <td>se</td>\n",
       "      <td>Sweden</td>\n",
       "      <td>Frans</td>\n",
       "      <td>If I Were Sorry</td>\n",
       "      <td>5.0</td>\n",
       "      <td>NaN</td>\n",
       "      <td>9.0</td>\n",
       "      <td>NaN</td>\n",
       "      <td>5.0</td>\n",
       "      <td>...</td>\n",
       "      <td>NaN</td>\n",
       "      <td>NaN</td>\n",
       "      <td>139.0</td>\n",
       "      <td>122.0</td>\n",
       "      <td>NaN</td>\n",
       "      <td>NaN</td>\n",
       "      <td>Frans Jeppsson Wall;Fredrik Andersson;Michael ...</td>\n",
       "      <td>NaN</td>\n",
       "      <td>I'd crawl through the desert on my hands and k...</td>\n",
       "      <td>https://youtube.com/watch?v=2AIPrVchJN8</td>\n",
       "    </tr>\n",
       "  </tbody>\n",
       "</table>\n",
       "<p>5 rows × 21 columns</p>\n",
       "</div>"
      ],
      "text/plain": [
       "      year to_country_id to_country       performer                  song  \\\n",
       "1394  2016            ua    Ukraine          Jamala                  1944   \n",
       "1395  2016            au  Australia         Dami Im      Sound of Silence   \n",
       "1396  2016            ru     Russia  Sergey Lazarev  You Are the Only One   \n",
       "1397  2016            bg   Bulgaria     Poli Genova   If Love Was a Crime   \n",
       "1398  2016            se     Sweden           Frans       If I Were Sorry   \n",
       "\n",
       "      place_contest  sf_num  running_final  running_sf  place_final  ...  \\\n",
       "1394            1.0     2.0           21.0        14.0          1.0  ...   \n",
       "1395            2.0     2.0           13.0        10.0          2.0  ...   \n",
       "1396            3.0     1.0           18.0         9.0          3.0  ...   \n",
       "1397            4.0     2.0            8.0        12.0          4.0  ...   \n",
       "1398            5.0     NaN            9.0         NaN          5.0  ...   \n",
       "\n",
       "      place_sf  points_sf  points_tele_final  points_jury_final  \\\n",
       "1394       2.0      287.0              323.0              211.0   \n",
       "1395       1.0      330.0              191.0              320.0   \n",
       "1396       1.0      342.0              361.0              130.0   \n",
       "1397       5.0      220.0              180.0              127.0   \n",
       "1398       NaN        NaN              139.0              122.0   \n",
       "\n",
       "      points_tele_sf  points_jury_sf  \\\n",
       "1394           152.0           135.0   \n",
       "1395           142.0           188.0   \n",
       "1396           194.0           148.0   \n",
       "1397           122.0            98.0   \n",
       "1398             NaN             NaN   \n",
       "\n",
       "                                              composers  \\\n",
       "1394                                             Jamala   \n",
       "1395                      Anthony Egizii;David Musumeci   \n",
       "1396              Dimitris Kontopoulos;Philipp Kirkorov   \n",
       "1397    Borislav Milanov;Joacim Persson;Sebastian Arman   \n",
       "1398  Frans Jeppsson Wall;Fredrik Andersson;Michael ...   \n",
       "\n",
       "                                              lyricists  \\\n",
       "1394                                                NaN   \n",
       "1395                                                NaN   \n",
       "1396                         John Ballard;Ralph Charlie   \n",
       "1397  Borislav Milanov;Joacim Persson;Poli Genova;Se...   \n",
       "1398                                                NaN   \n",
       "\n",
       "                                                 lyrics  \\\n",
       "1394  When strangers are coming\\nThey come to your h...   \n",
       "1395  Growing tired and weary brown eyes\\nTrying to ...   \n",
       "1396  We can never let the word be unspoken\\nWe will...   \n",
       "1397  You and I we collide\\nLike the stars on the su...   \n",
       "1398  I'd crawl through the desert on my hands and k...   \n",
       "\n",
       "                                  youtube_url  \n",
       "1394  https://youtube.com/watch?v=B-rnM-MwRHY  \n",
       "1395  https://youtube.com/watch?v=5ymFX91HwM0  \n",
       "1396  https://youtube.com/watch?v=e94dst20C9Y  \n",
       "1397  https://youtube.com/watch?v=PQqUTigWKHY  \n",
       "1398  https://youtube.com/watch?v=2AIPrVchJN8  \n",
       "\n",
       "[5 rows x 21 columns]"
      ]
     },
     "execution_count": 175,
     "metadata": {},
     "output_type": "execute_result"
    }
   ],
   "source": [
    "contestants.head(5)"
   ]
  },
  {
   "cell_type": "markdown",
   "id": "4d50c772",
   "metadata": {},
   "source": [
    "# Explore Votes Data "
   ]
  },
  {
   "cell_type": "code",
   "execution_count": 200,
   "id": "d0294dd3",
   "metadata": {},
   "outputs": [
    {
     "name": "stdout",
     "output_type": "stream",
     "text": [
      "<class 'pandas.core.frame.DataFrame'>\n",
      "RangeIndex: 51354 entries, 0 to 51353\n",
      "Data columns (total 9 columns):\n",
      " #   Column           Non-Null Count  Dtype  \n",
      "---  ------           --------------  -----  \n",
      " 0   year             51354 non-null  int64  \n",
      " 1   round            51354 non-null  object \n",
      " 2   from_country_id  51354 non-null  object \n",
      " 3   to_country_id    51354 non-null  object \n",
      " 4   from_country     51354 non-null  object \n",
      " 5   to_country       51354 non-null  object \n",
      " 6   total_points     51354 non-null  int64  \n",
      " 7   tele_points      11741 non-null  float64\n",
      " 8   jury_points      11715 non-null  float64\n",
      "dtypes: float64(2), int64(2), object(5)\n",
      "memory usage: 3.5+ MB\n"
     ]
    }
   ],
   "source": [
    "votes.info()"
   ]
  },
  {
   "cell_type": "code",
   "execution_count": 204,
   "id": "b5d06d1f",
   "metadata": {},
   "outputs": [
    {
     "data": {
      "text/plain": [
       "462186"
      ]
     },
     "execution_count": 204,
     "metadata": {},
     "output_type": "execute_result"
    }
   ],
   "source": [
    "votes.size"
   ]
  },
  {
   "cell_type": "markdown",
   "id": "f717585b",
   "metadata": {},
   "source": [
    "# Filter Contestants and Votes to use Data For the Years with Current Point System "
   ]
  },
  {
   "cell_type": "code",
   "execution_count": 212,
   "id": "86d7742c",
   "metadata": {},
   "outputs": [],
   "source": [
    "current_point_system_years = votes[votes['total_points'].isin([12, 10, 8, 7, 6, 5, 4, 3, 2, 1])]['year'].unique()\n",
    "\n",
    "# Filter contestants and votes datasets based on the detected years and grand final\n",
    "grand_final = votes['round'] == 'final'\n",
    "contestants = contestants[(contestants['year'].isin(current_point_system_years))]\n",
    "votes = votes[(votes['year'].isin(current_point_system_years)) & grand_final_mask]"
   ]
  },
  {
   "cell_type": "markdown",
   "id": "47c07985",
   "metadata": {},
   "source": [
    "# Explore Filtered Votes  for Current Point System"
   ]
  },
  {
   "cell_type": "code",
   "execution_count": 314,
   "id": "6ed60412",
   "metadata": {},
   "outputs": [
    {
     "name": "stdout",
     "output_type": "stream",
     "text": [
      "<class 'pandas.core.frame.DataFrame'>\n",
      "Index: 7370 entries, 39613 to 51353\n",
      "Data columns (total 9 columns):\n",
      " #   Column           Non-Null Count  Dtype  \n",
      "---  ------           --------------  -----  \n",
      " 0   year             7370 non-null   int64  \n",
      " 1   round            7370 non-null   object \n",
      " 2   from_country_id  7370 non-null   object \n",
      " 3   to_country_id    7370 non-null   object \n",
      " 4   from_country     7370 non-null   object \n",
      " 5   to_country       7370 non-null   object \n",
      " 6   total_points     7370 non-null   int64  \n",
      " 7   tele_points      7370 non-null   float64\n",
      " 8   jury_points      7344 non-null   float64\n",
      "dtypes: float64(2), int64(2), object(5)\n",
      "memory usage: 575.8+ KB\n"
     ]
    }
   ],
   "source": [
    "votes.info()"
   ]
  },
  {
   "cell_type": "code",
   "execution_count": 315,
   "id": "5fdf673e",
   "metadata": {},
   "outputs": [
    {
     "name": "stdout",
     "output_type": "stream",
     "text": [
      "<class 'pandas.core.frame.DataFrame'>\n",
      "Index: 299 entries, 1394 to 1733\n",
      "Data columns (total 21 columns):\n",
      " #   Column             Non-Null Count  Dtype  \n",
      "---  ------             --------------  -----  \n",
      " 0   year               299 non-null    int64  \n",
      " 1   to_country_id      299 non-null    object \n",
      " 2   to_country         299 non-null    object \n",
      " 3   performer          299 non-null    object \n",
      " 4   song               299 non-null    object \n",
      " 5   place_contest      284 non-null    float64\n",
      " 6   sf_num             227 non-null    float64\n",
      " 7   running_final      181 non-null    float64\n",
      " 8   running_sf         227 non-null    float64\n",
      " 9   place_final        181 non-null    float64\n",
      " 10  points_final       181 non-null    float64\n",
      " 11  place_sf           227 non-null    float64\n",
      " 12  points_sf          227 non-null    float64\n",
      " 13  points_tele_final  181 non-null    float64\n",
      " 14  points_jury_final  181 non-null    float64\n",
      " 15  points_tele_sf     212 non-null    float64\n",
      " 16  points_jury_sf     212 non-null    float64\n",
      " 17  composers          287 non-null    object \n",
      " 18  lyricists          126 non-null    object \n",
      " 19  lyrics             287 non-null    object \n",
      " 20  youtube_url        287 non-null    object \n",
      "dtypes: float64(12), int64(1), object(8)\n",
      "memory usage: 51.4+ KB\n"
     ]
    }
   ],
   "source": [
    "contestants.info()"
   ]
  },
  {
   "cell_type": "markdown",
   "id": "f8448be3",
   "metadata": {},
   "source": [
    "# Question 1 - Internal Data Consistency Check "
   ]
  },
  {
   "cell_type": "markdown",
   "id": "6a22edb1",
   "metadata": {},
   "source": [
    "# Question 1a : Data Consistency Check for Contestants Votes"
   ]
  },
  {
   "cell_type": "code",
   "execution_count": 313,
   "id": "bad978e7",
   "metadata": {},
   "outputs": [
    {
     "name": "stdout",
     "output_type": "stream",
     "text": [
      "\n",
      "Internal Consistency Verification:\n",
      "Points Consistency: True\n"
     ]
    }
   ],
   "source": [
    "def contestants_votes_consistency_check(contestants , votes):\n",
    "    contestants_points_final = contestants[['year', 'to_country_id', 'points_final']].dropna(subset=['points_final'])\n",
    "    contestants_points_final.rename(columns={'points_final': 'total_points' , 'to_country_id' : 'to_country'}, inplace=True)\n",
    "    \n",
    "    contestant_points = contestants_points_final['total_points']\n",
    "    votes_total_points = votes.groupby(['year', 'to_country'])['total_points'].sum().reset_index()['total_points']\n",
    "\n",
    "    # Sort the arrays\n",
    "    contestant_points_sorted = np.sort(contestant_points.to_numpy())\n",
    "    votes_total_points_sorted = np.sort(votes_total_points.to_numpy())\n",
    "\n",
    "    # Compare the sorted arrays\n",
    "    points_check = np.array_equal(contestant_points_sorted, votes_total_points_sorted)\n",
    "\n",
    "\n",
    "    # Print the result of the comparison\n",
    "    print(\"\\nInternal Consistency Verification:\")\n",
    "    print(\"Points Consistency:\", points_check)\n",
    "contestants_votes_consistency_check(contestants,votes)"
   ]
  },
  {
   "cell_type": "markdown",
   "id": "fe09b638",
   "metadata": {},
   "source": [
    "# 2. Most and least successful countries"
   ]
  },
  {
   "cell_type": "code",
   "execution_count": 310,
   "id": "b9f95e00",
   "metadata": {},
   "outputs": [
    {
     "name": "stdout",
     "output_type": "stream",
     "text": [
      "The most successful countries are : \n",
      "\n",
      " to_country\n",
      "Russia      355.000000\n",
      "Italy       340.000000\n",
      "Sweden      334.714286\n",
      "Ukraine     323.000000\n",
      "Bulgaria    314.500000\n",
      "Name: points_final, dtype: float64\n",
      "\n",
      " The least successful countries are : \n",
      "\n",
      " to_country\n",
      "Belarus       57.000000\n",
      "Germany       58.285714\n",
      "San Marino    63.500000\n",
      "Slovenia      82.333333\n",
      "Czechia       83.500000\n",
      "Name: points_final, dtype: float64\n"
     ]
    }
   ],
   "source": [
    "def most_least_successful(contestants, votes):\n",
    "    # Define success measure (e.g., average points or median)\n",
    "    success_measure = 'points_final'\n",
    "    \n",
    "    # Calculate success measure for each country\n",
    "    country_success = contestants.groupby('to_country')[success_measure].mean()\n",
    "    most_successful_countries = country_success.nlargest(5)\n",
    "    least_successful_countries = country_success.nsmallest(5)\n",
    "\n",
    "    print(\"The most successful countries are : \")\n",
    "    print(\"\\n\" , most_successful_countries)\n",
    "    print(\"\\n The least successful countries are : \")\n",
    "    print(\"\\n\" , least_successful_countries)\n",
    "most_least_successful(contestants, votes)"
   ]
  },
  {
   "cell_type": "markdown",
   "id": "868402eb",
   "metadata": {},
   "source": [
    "# 3. Ordering Effects Analysis "
   ]
  },
  {
   "cell_type": "code",
   "execution_count": 319,
   "id": "43279d28",
   "metadata": {},
   "outputs": [
    {
     "name": "stdout",
     "output_type": "stream",
     "text": [
      "\n",
      "Ordering Effects Analysis:\n",
      "running_final\n",
      "1.0     16.714286\n",
      "2.0     21.285714\n",
      "3.0     15.285714\n",
      "4.0     18.428571\n",
      "5.0     13.285714\n",
      "6.0     13.428571\n",
      "7.0     12.142857\n",
      "8.0     13.857143\n",
      "9.0     10.428571\n",
      "10.0    16.428571\n",
      "11.0     6.000000\n",
      "12.0     6.714286\n",
      "13.0    14.285714\n",
      "14.0    13.714286\n",
      "15.0    14.571429\n",
      "16.0    16.142857\n",
      "17.0    14.428571\n",
      "18.0    14.428571\n",
      "19.0    13.571429\n",
      "20.0     6.857143\n",
      "21.0    17.714286\n",
      "22.0    10.000000\n",
      "23.0    14.000000\n",
      "24.0     9.285714\n",
      "25.0    11.000000\n",
      "26.0    15.500000\n",
      "Name: place_final, dtype: float64\n",
      "\n",
      "Spearman's Rank Correlation Coefficient: -0.2667122624037985\n",
      "P-value: 0.18780686692289675\n"
     ]
    }
   ],
   "source": [
    "def order_effects_analysis(contestants):\n",
    "    # Investigate potential ordering effects\n",
    "    order_effects = contestants.groupby('running_final')['place_final'].mean()\n",
    "    \n",
    "\n",
    "    # Test for correlation (Spearman's rank correlation coefficient)\n",
    "    correlation, p_value = spearmanr(order_effects.index, order_effects.values)\n",
    "    \n",
    "    # Print results\n",
    "    print(\"\\nOrdering Effects Analysis:\")\n",
    "    print(order_effects)\n",
    "    print(\"\\nSpearman's Rank Correlation Coefficient:\", correlation)\n",
    "    print(\"P-value:\", p_value)\n",
    "\n",
    "# Assuming 'contestants' is your DataFrame\n",
    "order_effects_analysis(contestants)"
   ]
  },
  {
   "cell_type": "code",
   "execution_count": 308,
   "id": "9e989157",
   "metadata": {},
   "outputs": [
    {
     "name": "stdout",
     "output_type": "stream",
     "text": [
      "\n",
      "Jury vs Public Voting Analysis (2016 onwards):\n",
      "to_country\n",
      "al    0.574586\n",
      "at    0.578488\n",
      "az    0.642820\n",
      "bg    0.673235\n",
      "ch    0.720741\n",
      "cz    0.508851\n",
      "dk    0.552284\n",
      "es    0.747721\n",
      "fr    0.777512\n",
      "ge    0.713995\n",
      "hr    0.578297\n",
      "ie    0.658238\n",
      "is    0.746565\n",
      "lt    0.567615\n",
      "md    0.596580\n",
      "mt    0.638516\n",
      "no    0.536409\n",
      "pt    0.825755\n",
      "rs    0.758355\n",
      "se    0.690396\n",
      "sm    0.439962\n",
      "Name: jury_points, dtype: float64\n"
     ]
    }
   ],
   "source": [
    "# 5. Jury vs Public voting analysis from 2016 onwards\n",
    "def jury_vs_public_analysis(contestants, votes):\n",
    "    # Filter data from 2016 onwards\n",
    "    contestants_2016_onwards = contestants[contestants['year'] >= 2016]\n",
    "    votes_2016_onwards = votes[votes['year'] >= 2016]\n",
    "    \n",
    "    # Calculate correlation between jury and public voting\n",
    "    correlation = votes_2016_onwards.groupby('to_country')[['tele_points', 'jury_points']].corr().groupby(level=0).mean().iloc[0::2, -1]\n",
    "\n",
    "    \n",
    "    # Print correlation results\n",
    "    print(\"\\nJury vs Public Voting Analysis (2016 onwards):\")\n",
    "    print(correlation)\n",
    "\n",
    "jury_vs_public_analysis(contestants, votes)"
   ]
  },
  {
   "cell_type": "code",
   "execution_count": null,
   "id": "b23e8abf",
   "metadata": {},
   "outputs": [],
   "source": []
  }
 ],
 "metadata": {
  "kernelspec": {
   "display_name": "Python 3 (ipykernel)",
   "language": "python",
   "name": "python3"
  },
  "language_info": {
   "codemirror_mode": {
    "name": "ipython",
    "version": 3
   },
   "file_extension": ".py",
   "mimetype": "text/x-python",
   "name": "python",
   "nbconvert_exporter": "python",
   "pygments_lexer": "ipython3",
   "version": "3.11.5"
  }
 },
 "nbformat": 4,
 "nbformat_minor": 5
}
